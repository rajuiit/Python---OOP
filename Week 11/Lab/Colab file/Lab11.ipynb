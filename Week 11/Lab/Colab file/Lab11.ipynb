{
  "nbformat": 4,
  "nbformat_minor": 0,
  "metadata": {
    "colab": {
      "name": "Lab11.ipynb",
      "provenance": []
    },
    "kernelspec": {
      "name": "python3",
      "display_name": "Python 3"
    }
  },
  "cells": [
    {
      "cell_type": "markdown",
      "metadata": {
        "id": "0PkdiZLIzxx9",
        "colab_type": "text"
      },
      "source": [
        "#**Universal Functions**\n",
        "\n"
      ]
    },
    {
      "cell_type": "code",
      "metadata": {
        "id": "dNLpIXY_z8YN",
        "colab_type": "code",
        "colab": {}
      },
      "source": [
        "import numpy as np"
      ],
      "execution_count": 1,
      "outputs": []
    },
    {
      "cell_type": "code",
      "metadata": {
        "id": "97WsXgR00Cqr",
        "colab_type": "code",
        "colab": {}
      },
      "source": [
        "num = np.array([1, 4, 9, 16, 25, 36])"
      ],
      "execution_count": 2,
      "outputs": []
    },
    {
      "cell_type": "markdown",
      "metadata": {
        "id": "csLrBODU9s4V",
        "colab_type": "text"
      },
      "source": [
        "Array arithmetic"
      ]
    },
    {
      "cell_type": "code",
      "metadata": {
        "id": "svunN4JE0Jid",
        "colab_type": "code",
        "colab": {
          "base_uri": "https://localhost:8080/",
          "height": 35
        },
        "outputId": "3fddfa62-036b-4b5b-ef49-fbb4297f2a31"
      },
      "source": [
        "np.sqrt(num)"
      ],
      "execution_count": 3,
      "outputs": [
        {
          "output_type": "execute_result",
          "data": {
            "text/plain": [
              "array([1., 2., 3., 4., 5., 6.])"
            ]
          },
          "metadata": {
            "tags": []
          },
          "execution_count": 3
        }
      ]
    },
    {
      "cell_type": "code",
      "metadata": {
        "id": "ijz08n_Q0NUt",
        "colab_type": "code",
        "colab": {}
      },
      "source": [
        "num2 = np.arange(1, 7) * 10"
      ],
      "execution_count": 4,
      "outputs": []
    },
    {
      "cell_type": "code",
      "metadata": {
        "id": "b_SrshR70dHm",
        "colab_type": "code",
        "colab": {
          "base_uri": "https://localhost:8080/",
          "height": 35
        },
        "outputId": "fc24f29c-1fff-41a4-c0de-3489de0bb89a"
      },
      "source": [
        "num2"
      ],
      "execution_count": 5,
      "outputs": [
        {
          "output_type": "execute_result",
          "data": {
            "text/plain": [
              "array([10, 20, 30, 40, 50, 60])"
            ]
          },
          "metadata": {
            "tags": []
          },
          "execution_count": 5
        }
      ]
    },
    {
      "cell_type": "code",
      "metadata": {
        "id": "3mvrMOAy0eRh",
        "colab_type": "code",
        "colab": {
          "base_uri": "https://localhost:8080/",
          "height": 35
        },
        "outputId": "d393c65c-4c37-4cc5-e687-a9ce55335fd9"
      },
      "source": [
        "np.add(num, num2)"
      ],
      "execution_count": 6,
      "outputs": [
        {
          "output_type": "execute_result",
          "data": {
            "text/plain": [
              "array([11, 24, 39, 56, 75, 96])"
            ]
          },
          "metadata": {
            "tags": []
          },
          "execution_count": 6
        }
      ]
    },
    {
      "cell_type": "code",
      "metadata": {
        "id": "5JJ-ZI0S0jwD",
        "colab_type": "code",
        "colab": {
          "base_uri": "https://localhost:8080/",
          "height": 35
        },
        "outputId": "c8b4df10-b097-4379-ae91-0800cb525e97"
      },
      "source": [
        "np.multiply(num2, 5)"
      ],
      "execution_count": 7,
      "outputs": [
        {
          "output_type": "execute_result",
          "data": {
            "text/plain": [
              "array([ 50, 100, 150, 200, 250, 300])"
            ]
          },
          "metadata": {
            "tags": []
          },
          "execution_count": 7
        }
      ]
    },
    {
      "cell_type": "code",
      "metadata": {
        "id": "TvPaNEm00tOC",
        "colab_type": "code",
        "colab": {}
      },
      "source": [
        "num3 = num2.reshape(2, 3)"
      ],
      "execution_count": 8,
      "outputs": []
    },
    {
      "cell_type": "code",
      "metadata": {
        "id": "Eurn3HAz4TEu",
        "colab_type": "code",
        "colab": {
          "base_uri": "https://localhost:8080/",
          "height": 52
        },
        "outputId": "28532f39-1934-4439-b47c-5a9f650ad60a"
      },
      "source": [
        "num3"
      ],
      "execution_count": 9,
      "outputs": [
        {
          "output_type": "execute_result",
          "data": {
            "text/plain": [
              "array([[10, 20, 30],\n",
              "       [40, 50, 60]])"
            ]
          },
          "metadata": {
            "tags": []
          },
          "execution_count": 9
        }
      ]
    },
    {
      "cell_type": "code",
      "metadata": {
        "id": "4Flbopot4UTy",
        "colab_type": "code",
        "colab": {}
      },
      "source": [
        "num4 = np.array([2, 4, 6])"
      ],
      "execution_count": 10,
      "outputs": []
    },
    {
      "cell_type": "code",
      "metadata": {
        "id": "a2oJOe564adF",
        "colab_type": "code",
        "colab": {
          "base_uri": "https://localhost:8080/",
          "height": 52
        },
        "outputId": "4b13658e-f000-4a43-d544-cd924a915264"
      },
      "source": [
        "np.multiply(num3, num4)"
      ],
      "execution_count": 12,
      "outputs": [
        {
          "output_type": "execute_result",
          "data": {
            "text/plain": [
              "array([[ 20,  80, 180],\n",
              "       [ 80, 200, 360]])"
            ]
          },
          "metadata": {
            "tags": []
          },
          "execution_count": 12
        }
      ]
    },
    {
      "cell_type": "markdown",
      "metadata": {
        "id": "PKNCeDgP9WFU",
        "colab_type": "text"
      },
      "source": [
        "Exponents and logarithms"
      ]
    },
    {
      "cell_type": "code",
      "metadata": {
        "id": "zV01gQqc4fdi",
        "colab_type": "code",
        "colab": {
          "base_uri": "https://localhost:8080/",
          "height": 35
        },
        "outputId": "d05572c0-23ed-4a6b-bb05-2635a622eb27"
      },
      "source": [
        "np.exp(num4)"
      ],
      "execution_count": 14,
      "outputs": [
        {
          "output_type": "execute_result",
          "data": {
            "text/plain": [
              "array([  7.3890561 ,  54.59815003, 403.42879349])"
            ]
          },
          "metadata": {
            "tags": []
          },
          "execution_count": 14
        }
      ]
    },
    {
      "cell_type": "code",
      "metadata": {
        "id": "genZESSk8pd3",
        "colab_type": "code",
        "colab": {
          "base_uri": "https://localhost:8080/",
          "height": 35
        },
        "outputId": "f500cd04-8be3-4f98-bf4f-fe6d43d6003a"
      },
      "source": [
        " np.power(3, num4)"
      ],
      "execution_count": 16,
      "outputs": [
        {
          "output_type": "execute_result",
          "data": {
            "text/plain": [
              "array([  9,  81, 729])"
            ]
          },
          "metadata": {
            "tags": []
          },
          "execution_count": 16
        }
      ]
    },
    {
      "cell_type": "code",
      "metadata": {
        "id": "yjKMaoUY8vC8",
        "colab_type": "code",
        "colab": {
          "base_uri": "https://localhost:8080/",
          "height": 35
        },
        "outputId": "22e98cf3-6dc5-451d-f1da-e011a40e2862"
      },
      "source": [
        "np.log10(num4)"
      ],
      "execution_count": 17,
      "outputs": [
        {
          "output_type": "execute_result",
          "data": {
            "text/plain": [
              "array([0.30103   , 0.60205999, 0.77815125])"
            ]
          },
          "metadata": {
            "tags": []
          },
          "execution_count": 17
        }
      ]
    },
    {
      "cell_type": "markdown",
      "metadata": {
        "id": "38Ax-5of9bLi",
        "colab_type": "text"
      },
      "source": [
        "Trigonometric functions"
      ]
    },
    {
      "cell_type": "code",
      "metadata": {
        "id": "MLDMH70S84uZ",
        "colab_type": "code",
        "colab": {}
      },
      "source": [
        "theta = np.linspace(0, np.pi, 3)"
      ],
      "execution_count": 18,
      "outputs": []
    },
    {
      "cell_type": "code",
      "metadata": {
        "id": "WqxWVJ0h9EjW",
        "colab_type": "code",
        "colab": {
          "base_uri": "https://localhost:8080/",
          "height": 35
        },
        "outputId": "feba6b94-5674-4922-d63a-0925620b0128"
      },
      "source": [
        "np.sin(theta)"
      ],
      "execution_count": 19,
      "outputs": [
        {
          "output_type": "execute_result",
          "data": {
            "text/plain": [
              "array([0.0000000e+00, 1.0000000e+00, 1.2246468e-16])"
            ]
          },
          "metadata": {
            "tags": []
          },
          "execution_count": 19
        }
      ]
    },
    {
      "cell_type": "code",
      "metadata": {
        "id": "qFEl5Rmz9HyP",
        "colab_type": "code",
        "colab": {
          "base_uri": "https://localhost:8080/",
          "height": 35
        },
        "outputId": "b2124631-326a-48dc-e5de-cb1b1ce14565"
      },
      "source": [
        "np.cos(theta)"
      ],
      "execution_count": 20,
      "outputs": [
        {
          "output_type": "execute_result",
          "data": {
            "text/plain": [
              "array([ 1.000000e+00,  6.123234e-17, -1.000000e+00])"
            ]
          },
          "metadata": {
            "tags": []
          },
          "execution_count": 20
        }
      ]
    },
    {
      "cell_type": "code",
      "metadata": {
        "id": "fdLeFNCq9Kee",
        "colab_type": "code",
        "colab": {
          "base_uri": "https://localhost:8080/",
          "height": 35
        },
        "outputId": "20d4a583-6f0a-478b-da54-ca4457db57fa"
      },
      "source": [
        "np.tan(theta)"
      ],
      "execution_count": 21,
      "outputs": [
        {
          "output_type": "execute_result",
          "data": {
            "text/plain": [
              "array([ 0.00000000e+00,  1.63312394e+16, -1.22464680e-16])"
            ]
          },
          "metadata": {
            "tags": []
          },
          "execution_count": 21
        }
      ]
    },
    {
      "cell_type": "markdown",
      "metadata": {
        "id": "ZoafQS-ED29f",
        "colab_type": "text"
      },
      "source": [
        "#**Indexing and Slicing**"
      ]
    },
    {
      "cell_type": "markdown",
      "metadata": {
        "id": "KI5TBu6nEeAM",
        "colab_type": "text"
      },
      "source": [
        "Indexing with One-Dimensional arrays"
      ]
    },
    {
      "cell_type": "code",
      "metadata": {
        "id": "gzhFLpHG9NYD",
        "colab_type": "code",
        "colab": {
          "base_uri": "https://localhost:8080/",
          "height": 35
        },
        "outputId": "6df32b3f-df0b-44b4-feee-0c5181703fba"
      },
      "source": [
        "num[::]"
      ],
      "execution_count": 23,
      "outputs": [
        {
          "output_type": "execute_result",
          "data": {
            "text/plain": [
              "array([ 1,  4,  9, 16, 25, 36])"
            ]
          },
          "metadata": {
            "tags": []
          },
          "execution_count": 23
        }
      ]
    },
    {
      "cell_type": "code",
      "metadata": {
        "id": "XsshEeaLEqZG",
        "colab_type": "code",
        "colab": {
          "base_uri": "https://localhost:8080/",
          "height": 35
        },
        "outputId": "d1b10078-5a69-4c60-bd8e-2df3867e3620"
      },
      "source": [
        "num[2:5]"
      ],
      "execution_count": 25,
      "outputs": [
        {
          "output_type": "execute_result",
          "data": {
            "text/plain": [
              "array([ 9, 16, 25])"
            ]
          },
          "metadata": {
            "tags": []
          },
          "execution_count": 25
        }
      ]
    },
    {
      "cell_type": "code",
      "metadata": {
        "id": "gXTUIa4XEzf8",
        "colab_type": "code",
        "colab": {
          "base_uri": "https://localhost:8080/",
          "height": 35
        },
        "outputId": "58693d06-1a62-471a-bca8-fb5f66944a5b"
      },
      "source": [
        "num[::-1]"
      ],
      "execution_count": 26,
      "outputs": [
        {
          "output_type": "execute_result",
          "data": {
            "text/plain": [
              "array([36, 25, 16,  9,  4,  1])"
            ]
          },
          "metadata": {
            "tags": []
          },
          "execution_count": 26
        }
      ]
    },
    {
      "cell_type": "code",
      "metadata": {
        "id": "-E-YuR4wE9yd",
        "colab_type": "code",
        "colab": {
          "base_uri": "https://localhost:8080/",
          "height": 35
        },
        "outputId": "a89d8e10-757f-4f4f-cfb7-978b51635c42"
      },
      "source": [
        "num[-4:-2]"
      ],
      "execution_count": 29,
      "outputs": [
        {
          "output_type": "execute_result",
          "data": {
            "text/plain": [
              "array([ 9, 16])"
            ]
          },
          "metadata": {
            "tags": []
          },
          "execution_count": 29
        }
      ]
    },
    {
      "cell_type": "code",
      "metadata": {
        "id": "EIORRr3UFCaR",
        "colab_type": "code",
        "colab": {
          "base_uri": "https://localhost:8080/",
          "height": 35
        },
        "outputId": "dc75d97d-958b-4ef8-b8ed-3403b1f22428"
      },
      "source": [
        "num[-3]"
      ],
      "execution_count": 30,
      "outputs": [
        {
          "output_type": "execute_result",
          "data": {
            "text/plain": [
              "16"
            ]
          },
          "metadata": {
            "tags": []
          },
          "execution_count": 30
        }
      ]
    },
    {
      "cell_type": "markdown",
      "metadata": {
        "id": "5L5HGc35GJxR",
        "colab_type": "text"
      },
      "source": [
        "Indexing with Two-Dimensional arrays"
      ]
    },
    {
      "cell_type": "code",
      "metadata": {
        "id": "YmxRCi59FW7k",
        "colab_type": "code",
        "colab": {}
      },
      "source": [
        "grades = np.array([[87, 96, 70], [100, 87, 90],\n",
        "                   [94, 77, 90], [100, 81, 82]])"
      ],
      "execution_count": 31,
      "outputs": []
    },
    {
      "cell_type": "code",
      "metadata": {
        "id": "l-H20OEVIN4K",
        "colab_type": "code",
        "colab": {
          "base_uri": "https://localhost:8080/",
          "height": 87
        },
        "outputId": "b54f66d5-344f-4b34-b4b2-6bdc8f9aee6e"
      },
      "source": [
        "grades"
      ],
      "execution_count": 32,
      "outputs": [
        {
          "output_type": "execute_result",
          "data": {
            "text/plain": [
              "array([[ 87,  96,  70],\n",
              "       [100,  87,  90],\n",
              "       [ 94,  77,  90],\n",
              "       [100,  81,  82]])"
            ]
          },
          "metadata": {
            "tags": []
          },
          "execution_count": 32
        }
      ]
    },
    {
      "cell_type": "code",
      "metadata": {
        "id": "RSCTMeBEIRFI",
        "colab_type": "code",
        "colab": {
          "base_uri": "https://localhost:8080/",
          "height": 35
        },
        "outputId": "81a055c9-1d57-43c0-c6d7-d74d5c6f9be0"
      },
      "source": [
        "grades[1, 0] # row 1, column 0"
      ],
      "execution_count": 33,
      "outputs": [
        {
          "output_type": "execute_result",
          "data": {
            "text/plain": [
              "100"
            ]
          },
          "metadata": {
            "tags": []
          },
          "execution_count": 33
        }
      ]
    },
    {
      "cell_type": "code",
      "metadata": {
        "id": "dB-DvgsoIaMg",
        "colab_type": "code",
        "colab": {
          "base_uri": "https://localhost:8080/",
          "height": 35
        },
        "outputId": "6dec3516-7832-4e64-b74f-0dd4f965cbab"
      },
      "source": [
        "grades[2] #select a single row, specify only one index in square brackets"
      ],
      "execution_count": 35,
      "outputs": [
        {
          "output_type": "execute_result",
          "data": {
            "text/plain": [
              "array([94, 77, 90])"
            ]
          },
          "metadata": {
            "tags": []
          },
          "execution_count": 35
        }
      ]
    },
    {
      "cell_type": "code",
      "metadata": {
        "id": "PNdCF5L6IunD",
        "colab_type": "code",
        "colab": {
          "base_uri": "https://localhost:8080/",
          "height": 52
        },
        "outputId": "d3f77f0e-0917-44c7-eae4-97d3e60eee06"
      },
      "source": [
        "grades[0:2] #select multiple sequential rows, use slice notation"
      ],
      "execution_count": 36,
      "outputs": [
        {
          "output_type": "execute_result",
          "data": {
            "text/plain": [
              "array([[ 87,  96,  70],\n",
              "       [100,  87,  90]])"
            ]
          },
          "metadata": {
            "tags": []
          },
          "execution_count": 36
        }
      ]
    },
    {
      "cell_type": "code",
      "metadata": {
        "id": "_6DkJl1PI8fv",
        "colab_type": "code",
        "colab": {
          "base_uri": "https://localhost:8080/",
          "height": 52
        },
        "outputId": "b2fd1e93-8eac-44c4-99be-f0f90d66459a"
      },
      "source": [
        "grades[[1, 3]]#select multiple non-sequential rows, use a list of row indices"
      ],
      "execution_count": 38,
      "outputs": [
        {
          "output_type": "execute_result",
          "data": {
            "text/plain": [
              "array([[100,  87,  90],\n",
              "       [100,  81,  82]])"
            ]
          },
          "metadata": {
            "tags": []
          },
          "execution_count": 38
        }
      ]
    },
    {
      "cell_type": "code",
      "metadata": {
        "id": "XKXATE_mJJDo",
        "colab_type": "code",
        "colab": {
          "base_uri": "https://localhost:8080/",
          "height": 35
        },
        "outputId": "39d617de-bad3-4438-ea6f-fd0c5e5bfbcd"
      },
      "source": [
        "grades[:, 0]#Selecting a Subset of a Two-Dimensional array’s Columns"
      ],
      "execution_count": 39,
      "outputs": [
        {
          "output_type": "execute_result",
          "data": {
            "text/plain": [
              "array([ 87, 100,  94, 100])"
            ]
          },
          "metadata": {
            "tags": []
          },
          "execution_count": 39
        }
      ]
    },
    {
      "cell_type": "code",
      "metadata": {
        "id": "PX7wnfbEJq0W",
        "colab_type": "code",
        "colab": {
          "base_uri": "https://localhost:8080/",
          "height": 87
        },
        "outputId": "0d5446bb-370b-4e22-b492-6dae450b37b5"
      },
      "source": [
        "grades[:, 1:3]#representing a subset of the rows"
      ],
      "execution_count": 40,
      "outputs": [
        {
          "output_type": "execute_result",
          "data": {
            "text/plain": [
              "array([[96, 70],\n",
              "       [87, 90],\n",
              "       [77, 90],\n",
              "       [81, 82]])"
            ]
          },
          "metadata": {
            "tags": []
          },
          "execution_count": 40
        }
      ]
    },
    {
      "cell_type": "code",
      "metadata": {
        "id": "bO98I9MnJ1Ez",
        "colab_type": "code",
        "colab": {
          "base_uri": "https://localhost:8080/",
          "height": 87
        },
        "outputId": "c569149f-6bd8-4532-f6ec-e87c3b55111b"
      },
      "source": [
        "grades[:, [0, 2]]#specific columns using a list of column indices"
      ],
      "execution_count": 41,
      "outputs": [
        {
          "output_type": "execute_result",
          "data": {
            "text/plain": [
              "array([[ 87,  70],\n",
              "       [100,  90],\n",
              "       [ 94,  90],\n",
              "       [100,  82]])"
            ]
          },
          "metadata": {
            "tags": []
          },
          "execution_count": 41
        }
      ]
    },
    {
      "cell_type": "markdown",
      "metadata": {
        "id": "MEM4fVoSQOOJ",
        "colab_type": "text"
      },
      "source": [
        "#**Reshaping and Transposing**"
      ]
    },
    {
      "cell_type": "code",
      "metadata": {
        "id": "-MQOOPMwQRdN",
        "colab_type": "code",
        "colab": {}
      },
      "source": [
        "grades = np.array([[87, 96, 70], [100, 87, 90]])"
      ],
      "execution_count": 50,
      "outputs": []
    },
    {
      "cell_type": "code",
      "metadata": {
        "id": "N52mqw8MQYfC",
        "colab_type": "code",
        "colab": {
          "base_uri": "https://localhost:8080/",
          "height": 52
        },
        "outputId": "27b29974-c7a4-4b7e-ff19-a9748de4078f"
      },
      "source": [
        "grades"
      ],
      "execution_count": 51,
      "outputs": [
        {
          "output_type": "execute_result",
          "data": {
            "text/plain": [
              "array([[ 87,  96,  70],\n",
              "       [100,  87,  90]])"
            ]
          },
          "metadata": {
            "tags": []
          },
          "execution_count": 51
        }
      ]
    },
    {
      "cell_type": "markdown",
      "metadata": {
        "id": "vktQ8jBFREQQ",
        "colab_type": "text"
      },
      "source": [
        "Reshaping"
      ]
    },
    {
      "cell_type": "code",
      "metadata": {
        "id": "eBvBAMfcQatJ",
        "colab_type": "code",
        "colab": {
          "base_uri": "https://localhost:8080/",
          "height": 35
        },
        "outputId": "9b2a0c65-8d4d-4f3f-9c32-6ee82dde9810"
      },
      "source": [
        "grades.reshape(1, 6)#Method reshape returns a view of the original array with the new dimensions."
      ],
      "execution_count": 52,
      "outputs": [
        {
          "output_type": "execute_result",
          "data": {
            "text/plain": [
              "array([[ 87,  96,  70, 100,  87,  90]])"
            ]
          },
          "metadata": {
            "tags": []
          },
          "execution_count": 52
        }
      ]
    },
    {
      "cell_type": "code",
      "metadata": {
        "id": "3s70aJ8CQjah",
        "colab_type": "code",
        "colab": {
          "base_uri": "https://localhost:8080/",
          "height": 52
        },
        "outputId": "6c674ad3-f809-4eaa-e5c0-3203adbeb98e"
      },
      "source": [
        "grades"
      ],
      "execution_count": 53,
      "outputs": [
        {
          "output_type": "execute_result",
          "data": {
            "text/plain": [
              "array([[ 87,  96,  70],\n",
              "       [100,  87,  90]])"
            ]
          },
          "metadata": {
            "tags": []
          },
          "execution_count": 53
        }
      ]
    },
    {
      "cell_type": "code",
      "metadata": {
        "id": "VKnQMxRkQlY2",
        "colab_type": "code",
        "colab": {}
      },
      "source": [
        "grades.resize(1, 6)#Method resize modifies the original array’s shape"
      ],
      "execution_count": 54,
      "outputs": []
    },
    {
      "cell_type": "code",
      "metadata": {
        "id": "178jHRreQpKO",
        "colab_type": "code",
        "colab": {
          "base_uri": "https://localhost:8080/",
          "height": 35
        },
        "outputId": "b14a0f12-f151-40e0-a1b0-051c4f30e4bd"
      },
      "source": [
        "grades"
      ],
      "execution_count": 55,
      "outputs": [
        {
          "output_type": "execute_result",
          "data": {
            "text/plain": [
              "array([[ 87,  96,  70, 100,  87,  90]])"
            ]
          },
          "metadata": {
            "tags": []
          },
          "execution_count": 55
        }
      ]
    },
    {
      "cell_type": "markdown",
      "metadata": {
        "id": "BSfiSYHfRHDq",
        "colab_type": "text"
      },
      "source": [
        "Transposing"
      ]
    },
    {
      "cell_type": "code",
      "metadata": {
        "id": "DI-QjFfdQqeO",
        "colab_type": "code",
        "colab": {
          "base_uri": "https://localhost:8080/",
          "height": 121
        },
        "outputId": "4d3c2d22-8227-4855-f7b4-83e749895c9e"
      },
      "source": [
        "grades.T"
      ],
      "execution_count": 56,
      "outputs": [
        {
          "output_type": "execute_result",
          "data": {
            "text/plain": [
              "array([[ 87],\n",
              "       [ 96],\n",
              "       [ 70],\n",
              "       [100],\n",
              "       [ 87],\n",
              "       [ 90]])"
            ]
          },
          "metadata": {
            "tags": []
          },
          "execution_count": 56
        }
      ]
    },
    {
      "cell_type": "code",
      "metadata": {
        "id": "BhXFv_7sRMAJ",
        "colab_type": "code",
        "colab": {
          "base_uri": "https://localhost:8080/",
          "height": 35
        },
        "outputId": "3f5f7fc8-930d-41ca-a760-13f19cf9aba2"
      },
      "source": [
        "grades"
      ],
      "execution_count": 57,
      "outputs": [
        {
          "output_type": "execute_result",
          "data": {
            "text/plain": [
              "array([[ 87,  96,  70, 100,  87,  90]])"
            ]
          },
          "metadata": {
            "tags": []
          },
          "execution_count": 57
        }
      ]
    }
  ]
}