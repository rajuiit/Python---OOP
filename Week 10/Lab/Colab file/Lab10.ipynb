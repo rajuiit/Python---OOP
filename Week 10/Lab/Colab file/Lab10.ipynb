{
  "nbformat": 4,
  "nbformat_minor": 0,
  "metadata": {
    "colab": {
      "name": "Lab10.ipynb",
      "provenance": []
    },
    "kernelspec": {
      "name": "python3",
      "display_name": "Python 3"
    }
  },
  "cells": [
    {
      "cell_type": "markdown",
      "metadata": {
        "id": "qRRnHX-20jLJ",
        "colab_type": "text"
      },
      "source": [
        "# **NumPy Installation**\n",
        "\n",
        "Google Colab and Anaconda Package include Python, NumPy, and other commonly used packages for scientific computing and data science.\n",
        "\n",
        "NumPy can be installed with conda, with pip, or with a package manager on different OS.\n",
        "\n",
        "If you use conda, you can install it with:\n",
        "**conda install numpy**\n",
        "\n",
        "If you use pip, you can install it with:\n",
        "**pip install numpy**\n",
        "\n",
        "But here we don't need any installation process."
      ]
    },
    {
      "cell_type": "markdown",
      "metadata": {
        "id": "Zg0brZzP4ihO",
        "colab_type": "text"
      },
      "source": [
        "## Creating arrays from Existing Data"
      ]
    },
    {
      "cell_type": "code",
      "metadata": {
        "id": "C3mfhR_M1fV3",
        "colab_type": "code",
        "colab": {
          "base_uri": "https://localhost:8080/",
          "height": 34
        },
        "outputId": "6ff193d2-e30b-431d-b59c-b2a8f44dad6f"
      },
      "source": [
        "import numpy as np\n",
        "numbers = np.array([2, 3, 5, 7, 11])\n",
        "numbers"
      ],
      "execution_count": null,
      "outputs": [
        {
          "output_type": "execute_result",
          "data": {
            "text/plain": [
              "array([ 2,  3,  5,  7, 11])"
            ]
          },
          "metadata": {
            "tags": []
          },
          "execution_count": 5
        }
      ]
    },
    {
      "cell_type": "code",
      "metadata": {
        "id": "hukIAiEX1ize",
        "colab_type": "code",
        "colab": {
          "base_uri": "https://localhost:8080/",
          "height": 34
        },
        "outputId": "dec40a25-347b-4a4c-fd92-55a4230993db"
      },
      "source": [
        "type(numbers)"
      ],
      "execution_count": null,
      "outputs": [
        {
          "output_type": "execute_result",
          "data": {
            "text/plain": [
              "numpy.ndarray"
            ]
          },
          "metadata": {
            "tags": []
          },
          "execution_count": 3
        }
      ]
    },
    {
      "cell_type": "markdown",
      "metadata": {
        "id": "IupWNug_7bWK",
        "colab_type": "text"
      },
      "source": [
        "**Multidimensional Arguments**"
      ]
    },
    {
      "cell_type": "markdown",
      "metadata": {
        "id": "VrkI_D3884tE",
        "colab_type": "text"
      },
      "source": [
        "1D array"
      ]
    },
    {
      "cell_type": "code",
      "metadata": {
        "id": "zyyNS9ik5Wbl",
        "colab_type": "code",
        "colab": {
          "base_uri": "https://localhost:8080/",
          "height": 34
        },
        "outputId": "8641b65f-b81a-4b18-9358-0f8c3a6d9178"
      },
      "source": [
        "array_1D = np.array([2,4,5,6])\n",
        "array_1D"
      ],
      "execution_count": null,
      "outputs": [
        {
          "output_type": "execute_result",
          "data": {
            "text/plain": [
              "array([2, 4, 5, 6])"
            ]
          },
          "metadata": {
            "tags": []
          },
          "execution_count": 10
        }
      ]
    },
    {
      "cell_type": "markdown",
      "metadata": {
        "id": "NPXllhbI9YmV",
        "colab_type": "text"
      },
      "source": [
        "2D array"
      ]
    },
    {
      "cell_type": "code",
      "metadata": {
        "id": "ebHatd6e9KaW",
        "colab_type": "code",
        "colab": {
          "base_uri": "https://localhost:8080/",
          "height": 70
        },
        "outputId": "a16f2d7a-6e83-442b-a8b7-af34a05f5bc3"
      },
      "source": [
        "array_2D = np.array([[2,4,5,6],[2,4,5,6],[2,4,5,6]]) ## 3X4 array--(3 rows and 4 columns)\n",
        "array_2D "
      ],
      "execution_count": null,
      "outputs": [
        {
          "output_type": "execute_result",
          "data": {
            "text/plain": [
              "array([[2, 4, 5, 6],\n",
              "       [2, 4, 5, 6],\n",
              "       [2, 4, 5, 6]])"
            ]
          },
          "metadata": {
            "tags": []
          },
          "execution_count": 8
        }
      ]
    },
    {
      "cell_type": "markdown",
      "metadata": {
        "id": "kEFSwnBq97nl",
        "colab_type": "text"
      },
      "source": [
        "3D array"
      ]
    },
    {
      "cell_type": "code",
      "metadata": {
        "id": "5fh82r-792zz",
        "colab_type": "code",
        "colab": {
          "base_uri": "https://localhost:8080/",
          "height": 70
        },
        "outputId": "9d3c68ac-731a-4210-f579-a43e88e375c3"
      },
      "source": [
        "array_3D = np.array([[[2,4,5,6],[2,4,5,6],[2,4,5,6]]])\n",
        "array_3D "
      ],
      "execution_count": null,
      "outputs": [
        {
          "output_type": "execute_result",
          "data": {
            "text/plain": [
              "array([[[2, 4, 5, 6],\n",
              "        [2, 4, 5, 6],\n",
              "        [2, 4, 5, 6]]])"
            ]
          },
          "metadata": {
            "tags": []
          },
          "execution_count": 9
        }
      ]
    },
    {
      "cell_type": "markdown",
      "metadata": {
        "id": "QIqZjMhbFDEr",
        "colab_type": "text"
      },
      "source": [
        "![image.png](data:image/png;base64,iVBORw0KGgoAAAANSUhEUgAACIEAAABwCAYAAACDrfKpAAAgAElEQVR4Ae2dP6i1VXb/rQZhGu1sIjaBlwFBMo3Y5C0CWozggIUTEDIWmTSSIYFkhoFM6UAGBJu3ChNsLFIImUIbkZBisDKFYBGIYKEgAUkhFinOj+813/tbd737/3nOueec+zlweZ7z7L3Xn89aez37Pnffcx7Z8YIABCAAAQhAAAIQgAAEIAABCEAAAhCAAAQgAAEIQAACEIAABCAAAQhAAAIQOHsCj5y9BzgAAQhAAAIQgAAEIAABCEAAAhCAAAQgAAEIQAACEIAABCAAAQhAAAIQgAAEILBjEwhJAAEIQAACEIAABCAAAQhAAAIQgAAEIAABCEAAAhCAAAQgAAEIQAACEIAABC6AAJtALiCIuAABCEAAAhCAAAQgAAEIQAACEIAABCAAAQhAAAIQgAAEIAABCEAAAhCAAATYBEIOQAACEIAABCAAAQhAAAIQgAAEIAABCEAAAhCAAAQgAAEIQAACEIAABCAAgQsgwCaQCwgiLkAAAhCAAAQgAAEIQAACEIAABCAAAQhAAAIQgAAEIAABCEAAAhCAAAQgAAE2gZADEIAABCAAAQhAAAIQgAAEIAABCEAAAhCAAAQgAAEIQAACEIAABCAAAQhA4AIIsAnkAoKICxCAAAQgAAEIQAACEIAABCAAAQhAAAIQgAAEIAABCEAAAhCAAAQgAAEIQIBNIOQABCAAAQhAAAIQgAAEIAABCEAAAhCAAAQgAAEIQAACEIAABCAAAQhAAAIQuAACbAK5gCDiAgQgAAEIQAACEIAABCAAAQhAAAIQgAAEIAABCEAAAhCAAAQgAAEIQAACEGATCDkAAQhAAAIQgAAEIAABCEAAAhCAAAQgAAEIQAACEIAABCAAAQhAAAIQgAAELoAAm0AuIIi4AAEIQAACEIAABCAAAQhAAAIQgAAEIAABCEAAAhCAAAQgAAEIQAACEIAABNgEQg5AAAIQgAAEIAABCEAAAhCAAAQgAAEIQAACEIAABCAAAQhAAAIQgAAEIACBCyDAJpALCCIuQAACEIAABCAAAQhAAAIQgAAEIAABCEAAAhCAAAQgAAEIQAACEIAABCAAATaBkAMQgAAEIAABCEAAAhCAAAQgAAEIQAACEIAABCAAAQhAAAIQgAAEIAABCEDgAgiwCeQCgogLEIAABCAAAQhAAAIQgAAEIAABCEAAAhCAAAQgAAEIQAACEIAABCAAAQhAgE0g5AAEIAABCEAAAhCAAAQgAAEIQAACEIAABCAAAQhAAAIQgAAEIAABCEAAAhC4AAJsArmAIOICBCAAAQhAAAIQgAAEIAABCEAAAhCAAAQgAAEIQAACEIAABCAAAQhAAAIQYBMIOQABCEAAAhCAAAQgAAEIQAACEIAABCAAAQhAAAIQgAAEIAABCEAAAhCAAAQugACbQC4giKfuwnvvvbf78MMPT91M7IMABCAAAQhAAAIQgAAEIAABCEAAAhCAAAQgAAEIQAACEIAABCAAAQicNYFNN4F8/fXXu1//+te7F154YffII480fx577LHd/fv3r34ePHiw+/bbb08C5GeffbZ79tlnH7Jdts68JEdjMoennnpqRsxZ9/3d7363e+aZZ64YKC94QQACEIAABCAAAQhAAAIQgAAEIAABCEAAAhCAAAQgAAEIQAACEIAABCBwOAKbbgKJZuqP/nkDhDYE6BMh3n333d0rr7xyo12bQt54440o4lbPX3rppRv2zW4CsfFZzqVvAtFGoDfffHP3xBNP3ODHJhBnBEcIQAACEIAABCAAAQhAAAIQgAAEIAABCEAAAhCAAAQgAAEIQAACEIDAYQgcbBOINnvkTSB5I4U2feQ+2kBwCq+8iSXbPmpjlnOpm0C+/PLL3S9+8YudNvPkmOo9m0BGM4Z+EIAABCAAAQhAAAIQgAAEIAABCEAAAhCAAAQgAAEIQAACEIAABCAAgTUCt7oJRF8Bc+/evRubBh599NHdp59+uubNhqPy5g02gbThvvPOOzt9/Ys2/+RPP2ETSJsdrRCAAAQgAAEIQAACEIAABCAAAQhAAAIQgAAEIAABCEAAAhCAAAQgAIEtCNzqJhA5kL8WRhsGTuHTQNgEsp5en3322Y2NPWwCWWfJSAhAAAIQgAAEIAABCEAAAhCAAAQgAAEIQAACEIAABCAAAQhAAAIQgMAogVvfBKKvENEmgfjzF3/xF6P2H6wfm0DW0bIJZJ0dIyEAAQhAAAIQgAAEIAABCEAAAhCAAAQgAAEIQAACEIAABCAAAQhAAAKrBG59E8hf/dVf3dgAos0gP//5z6/90VeMaENG/tFGA72+/vrrq68heeGFF64+VaT0VTKSIZn6Shf9qK+u6etoaq/aJpA//OEPN2RJ7pdfflkTc2V33ODy1FNPVfuqQXaJiW3VJhn7Ggf2uKhdm2kkR5+28uDBgxv+ipuuqc1M3nvvvahi+Xx1E4g4vvHGG1f2yDbZyAsCEIAABCAAAQhAAAIQgAAEIAABCEAAAhCAAAQgAAEIQAACEIAABCAAgTECt74JRBsy4iYJnb/zzjvX1n/88cfFr4z58MMPrzYJPPPMMzfGawOFX9pE8NJLL121P/bYY1cbDCT73r1719ckv/QqbQLRBoVsq94/+uiju9oGiiyntglEtvqrccRE/lmfbH/33XdvmKnNKCV2ssM+Z1v9CSuS/cQTTxR9Udu+r9VNIM8+++wNm8SOFwQgAAEIQAACEIAABCAAAQhAAAIQgAAEIAABCEAAAhCAAAQgAAEIQAACYwRudROINmBoA0XcrKBNHfmlT/eIfXSuzQr6BIt8XRsg9NKnfHizh/q8+eab12I11uOkXxsq8itv3lB/bbrwp3JoU0a0XeelDSVZTm0TSNwAET/NxD5Kfrwue6XPfvgo+RojH/VpIL7uoz5ZRLJkl/rkjSQ1+zKf1vuVTSD6FBDb6OMWtrTspA0CEIAABCAAAQhAAAIQgAAEIAABCEAAAhCAAAQgAAEIQAACEIAABCBwSQRubROINjTkT/HQpg1vsoiQS5sKtNFBGye0kSF+8oU2PuilzQ7eTKBj3kARN4joPH81TN68IVtzn6hXOrwBJdqe5ZQ2NmiDim3Vpoz48qeBlOTXuMTxeZOH5JiR+omLdfuYWUV5I+clu8Sh9RLbuKmm5G9rPG0QgAAEIAABCEAAAhCAAAQgAAEIQAACEIAABCAAAQhAAAIQgAAEIACBu07gqJtA9LUm2ryhn/gHf13X17joK1FKr9KmAo3Xp0f4pY0L3ryg61G+NhTkV97AEb+CRn3z5g3ZnF8a440TOsqP/Mpy8iYQ2Rq/miV+nY1k5U/ziD6XuGhTTHzpK2CijdmPERlR3sh5SWZvE4jkiqdZiFPpE1pG9NMHAhCAAAQgAAEIQAACEIAABCAAAQhAAAIQgAAEIAABCEAAAhCAAAQgcBcJPLw7YiMK2owQNx/oXH/Y12YA/zx48ODqkzx6KkubCkqfumE5kht1a2NBfuXNEa+88sqNLnnzRt48oc4lH70RxcKynLwJRF8rE23VJ3/EV94E8t577103l7ic8yYQO8bmD5PgCAEIQAACEIAABCAAAQhAAAIQgAAEIAABCEAAAhCAAAQgAAEIQAACEBgncNRNIKWNFCOmljY76Oteaq/8VTB544XG5U0g+rqX+MqbN0q2f/zxxzc2cGgzR+8TRbIt8atgNF5fTSNd/olfW6N29ferxOUSNoHYP44QgAAEIAABCEAAAhCAAAQgAAEIQAACEIAABCAAAQhAAAIQgAAEIAABCIwTONtNIPqEjNorf9VL3nihcXkTSO4zsgmktAkjf5JHlpP16Otf4ieB6BNJtJGj9iOdfpX0swnEdDhCAAIQgAAEIAABCEAAAhCAAAQgAAEIQAACEIAABCAAAQhAAAIQgAAE7haBs90Ekjc7xLBpI0XcWJE3Xqhv3gSiT9yIr7x5o/RJIKVNGHlzSpaTbcl2vPDCC9GM5nlJf+aS5Wc/RmQ0jSg0lmSKAy8IQAACEIAABCAAAQhAAAIQgAAEIAABCEAAAhCAAAQgAAEIQAACEIAABA5H4CI3geSvg8kbPIQzb47Imy/y5o28eUIySpsd/vCHP9yIVpaTN4FkWx977LEb41tvSvrZBNIiRhsEIAABCEAAAhCAAAQgAAEIQAACEIAABCAAAQhAAAIQgAAEIAABCEDgcglc5CaQd95558YngTzxxBMPRVCbPuKnhehrWeKrt3lDfbXhI8oo6enJefDgwQ0Zkvfuu+9GU26cf/vtt9fvL3ETiHhog45iyAsCEIAABCAAAQhAAAIQgAAEIAABCEAAAhCAAAQgAAEIQAACEIAABCAAgXECF7kJRBsltCEjbtDISJ555pkb7R9//PGNLr3NG+qcN3D8/Oc/vyFDb3pyvvzyy92jjz56wxbZVnpJVtwgcmmbQLQRJ8ZMfHlBAAIQgAAEIAABCEAAAhCAAAQgAAEIQAACEIAABCAAAQhAAAIQgAAEIDBG4KibQJ599tkxq1Kvkc0OacjuzTffvLGhIG7y0CYRfe2KNxy89NJLefhDmzfUP34KhwbETQvadPL111935ZQ+LUSbR2yLj/qkEsvTUf7kr6QZ4ZK/9mZExu9+97uH/Ji5ULKrtEEmyhTb0c0wcRznEIAABCAAAQhAAAIQgAAEIAABCEAAAhCAAAQgAAEIQAACEIAABCAAAQh8R+Bgm0DeeOONhzY21DZK9ILx4YcfPiSrt1FBmwpeeeWV63FxE0LcIKKNKd5sEe3In+ChzRka51f8BA9tEJGNpVfehCE5WZ/eyw5vAInHp5566uq6jtpcEV8jXPLX3uRNKPkrbbKfUd/oef6EFMmUf3kTTZSntrgxx2NiH84hAAEIQAACEIAABCAAAQhAAAIQgAAEIAABCEAAAhCAAAQgAAEIQAACEKgT2HQTiDYzaPNE/ISMuKFB5/fu3bvqE7/WpG7e7mrjhTYuZDm6Jl15Q0WWFTd8aEOENmV4s4HOaxsTvAlEfT799NOdN1PokzTkn23S5ob4KSPWrw0bHpNt19e9ZP9lR62/dOYNINpkYz+ifH2ahtrEpRYHbSiRzdpIU5Kha5Ix89KGFMc+f6KH7ZPfv/jFLx7y3XrU5r46vvPOO27iCAEIQAACEIAABCAAAQhAAAIQgAAEIAABCEAAAhCAAAQgAAEIQAACEIBAh8Cmm0A6um6tWRsstElBGxu0UUHnvc0j6qNPyYgvvdemEsmQrNLmj9h/5VyfMKINIofUsWLXscZow43Y5k0vx9KPHghAAAIQgAAEIAABCEAAAhCAAAQgAAEIQAACEIAABCAAAQhAAAIQgMC5ErgTm0DONTjYDQEIQAACEIAABCAAAQhAAAIQgAAEIAABCEAAAhCAAAQgAAEIQAACEIAABEYJsAlklBT9IAABCEAAAhCAAAQgAAEIQAACEIAABCAAAQhAAAIQgAAEIAABCEAAAhCAwAkTYBPICQcH0yAAAQhAAAIQgAAEIAABCEAAAhCAAAQgAAEIQAACEIAABCAAAQhAAAIQgMAoATaBjJKiHwQgAAEIQAACEIAABCAAAQhAAAIQgAAEIAABCEAAAhCAAAQgAAEIQAACEDhhAmwCOeHgYBoEIAABCEAAAhCAAAQgAAEIQAACEIAABCAAAQhAAAIQgAAEIAABCEAAAhAYJcAmkFFS9IMABCAAAQhAAAIQgAAEIAABCEAAAhCAAAQgAAEIQAACEIAABCAAAQhAAAInTIBNICccHEyDAAQgAAEIQAACEIAABCAAAQhAAAIQgAAEIAABCEAAAhCAAAQgAAEIQAACowTYBDJKin4QgAAEIAABCEAAAhCAAAQgAAEIQAACEIAABCAAAQhAAAIQgAAEIAABCEDghAmwCeSEg4NpEIAABCAAAQhAAAIQgAAEIAABCEAAAhCAAAQgAAEIQAACEIAABCAAAQhAYJQAm0BGSdEPAhCAAAQgAAEIQAACEIAABCAAAQhAAAIQgAAEIAABCEAAAhCAAAQgAAEInDABNoGccHAwDQIQgAAEIAABCEAAAhCAAAQgAAEIQAACEIAABCAAAQhAAAIQgAAEIAABCIwSYBPIKCn6QQACEIAABCAAAQhAAAIQgAAEIAABCEAAAhCAAAQgAAEIQAACEIAABCAAgRMmwCaQEw4OpkEAAhCAAAQgAAEIQAACEIAABCAAAQhAAAIQgAAEIAABCEAAAhCAAAQgAIFRAmwCGSVFPwhAAAIQgAAEIAABCEAAAhCAAAQgAAEIQAACEIAABCAAAQhAAAIQgAAEIHDCBNgEcsLBwTQIQAACEIAABCAAAQhAAAIQgAAEIAABCEAAAhCAAAQgAAEIQAACEIAABCAwSoBNIKOk6AcBCEAAAhCAAAQgAAEIQAACEIAABCAAAQhAAAIQgAAEIAABCEAAAhCAAAROmACbQE44OJgGAQhAAAIQgAAEIAABCEAAAhCAAAQgAAEIQAACEIAABCAAAQhAAAIQgAAERgmwCWSUFP0gAAEIQAACEIAABCAAAQhAAAIQgAAEIAABCEAAAhCAAAQgAAEIQAACEIDACRNgE8gJBwfTIAABCEAAAhCAAAQgAAEIQAACEIAABCAAAQhAAAIQgAAEIAABCEAAAhCAwCgBNoGMkqIfBCAAAQhAAAIQgAAEIAABCEAAAhCAAAQgAAEIQAACEIAABCAAAQhAAAIQOGECbAI54eBgGgQgAAEIQAACEIAABCAAAQhAAAIQgAAEIAABCEAAAhCAAAQgAAEIQAACEBglwCaQUVL0gwAEIAABCEAAAhCAAAQgAAEIQAACEIAABCAAAQhAAAIQgAAEIAABCEAAAidMgE0gJxwcTIMABCAAAQhAAAIQgAAEIAABCEAAAhCAAAQgAAEIQAACEIAABCAAAQhAAAKjBNgEMkqKfhCAAAQgAAEIQAACEIAABCAAAQhAAAIQgAAEIAABCEAAAhCAAAQgAAEIQOCECbAJ5ISDg2kQgAAEIAABCEAAAhCAAAQgAAEIQAACEIAABCAAAQhAAAIQgAAEIAABCEBglACbQEZJ0e+sCHzxxRe7Bw8e7O7fv7/7/ve/v/vqq69u2P/tt99etT3yyCO7X//61zfa7uqbS2Dyv//7v7sPPvhg9/rrr+8ef/xxYnvgZBbvX/7yl1esNZe+973v7X7zm9/svvnmmwNrvhzxIzl7CXPzciK2jScjcd9G0/GlXHq+XnLsjp8tD2vsrd8eHnG3r5CPpxX/S69/p0V7zhrNFdasc8xWet/1mnTX/VfOnFodPIeY1OrTf//3f/PMaqUQXdiYQ6+Nz2GO7BvSVYar46K9p1YTo22c73a1+sszze2y4y7UmBatu+6/2JxiHSQuraw9rbYt7sWn5dHtWHOUTSAO1nPPPbfTHwr9c+/evd2rr766++STT65vvB999NHtkEDrxRD4r//6r13MtdomkBdffPEqF9kE8l3odVM+Zya6gXvzh2sMsT3ctNY800abt99++0qJ34v9n/zJn7ARZAD9aM6e+9wcQHGnuijuL7/88vXmKc2ZS6pVl5yvlx67256II+u327bxlPSTj6cUje9sueT6d3q0xy3yGvWurlk///zz3fPPP3/9DEabtv0MZpxiv+ddr0m36f8+Mc5j982NU6qDtxmT/oz5rkerPul5qf6p6dJ+VxhlQ7/d7tBr43OYI/vmwSrD1XHZ3lOqidm2u/6+VX/vwjPNTz/99OqfZ7VG1LPdd955Z/OUuAs1pgXtNv3P67uZ9f/WuXFqdfA249LKF9oeJrDVvfhhyXfvykE3gWhS6T9u9EuLfoHRg5e4m1IFSX+0Vbt+VJDYBHL3kvBQHv/TP/3TVV6VNoEcSidyb5+AFhdPPvnkVewv6Q+rt0/2/1ug2q4NQ/kXI/8S9dprr/3/zpx1CZCzXUQX2YG4n29Yid1hY8f6bY4v+TjHi953i8BdX7O6nvp5Szzq2cshHvjf9Zp0bP/3ifG///u/X/3h56WXXrp6Tqf58jd/8zcX91zu2DEZrbJ3vT6NcqLfbud5fqhnm6c6R7aM/SrD1XFb2o6s7Qnc9fqrv9X95Cc/ud5oqPXhIdaEjtxdqDH2tXQ8tv+uW3Hd7/Pe+v/YuVHidaxrx47Lsfy6RD3O6UOtgy6RWfbpYJtANJG8a92/VGblfv/++++fxSYQ+fTXf/3XNvusj5fkSy0QFIgamcu+zk388PHVA0MtIPMmkMNrvkwNx87Zu1D/zyFT/OBBc4kNa6cZsdpcOXbsanacJrX9rWL9VmZYy4Nj52PZOq4emkAt/ofWe+7y7/Ka1Zuzf/WrX13/I47qxVtvvXW1jtf6Y59/wqnl5F2vScf0f58Ye2x+mKq46h8q8vVzqAXnlpOnWJ9qDM8h/pds41Zr41p8j1m3bitOqwxXxx3Dz1o8j6H73HWcYv29DaZeC2hNuMUmkFpO3oUa04rfMf13TPdd/1vOVrnR4nPoNvLy0IQPL/+U78WH934bDQfZBBKL2+gfCR3MLW4626B5WIps1IaWS3hdki+1eDinzvEBRs0nrvcJ6ObOJ4H0Oe3Tw3NrtL7vo+sujD12zt6F+n8OeRPXSmwCOc2I1ebKsWNXs+M0qe1vle8xrN9usqzlwbHz8aZVvDsWgVr8j6X/XPW4ntzFNav+k6/2bMV//NCD3dXnG7WcvOs16Zj+7xNjfeKH4l9ag7ptNTduq16cW06eYn2qMbytmKL3OwLOlX3XxrX4HrNu3VZMVxmujjuGn7V4HkP3uetwXO/i+jDGLj6LrK0ZY//eeS0n70KNabE5pv/7rA2jD1vnRpR97HPy8tjEt9fnmr3vOmh7y85H4kE2gTgwM7vFXBC3uOkcAr8flJzbL8IlFpfkS8k/X3MeUiBM5G4c40Kl9FDrblA4rJfn+mDwsFTWpR8zZ+9K/V+PxvFGet1TewB/PEvQVCLQmivHjF3LjpLdl3CN9dvDUWzlwTHz8WHLuHIMAq34H0P/Oeu4q2tWrS1bn2Aa68bK841WTkbZd/F3sWP5v0+Me//d6fie03MU21zK52PFZLZWnlp9ajGc9Y3+2xLYYm3ciu+pzpEtKa4yXB23pe0lWa14lvpz7SaBU6u/N6073rv4LHLfv8e1cvIu1JhW1I7l/z5rw2z/lrmRZR/zPXl5TNqH03Wq9+LDeby95M03gcRfKGd3VCqg+950tke02+nrah5//PGr/5Qo/VJ5CJ2HknlJvvQYUSB6hC6zPS5U7uKDx2NElV+YtqV8rJy9S/V/2wgdRtqxfhE8jPWXLbU3V44Vu54dlxoF1m83I9vLg2Pl402reHcsAr34H8uOc9XDmrUeuVU2vZy86zXplPyvxdj32drXAcVneqf4fC5n9bnmZC0+2b9jvO8xPIYN6KgT8Jxd3ZjVi+8p1a06hf1aVhmujtvP2vboXjzbo2kVgVOqv7cZkfgscp/7fS8n70KNacXxlPwfzf2tcqPF5dBt5OWhCR9P/inei4/n/TaaNt8E4qCsfLSoftn87W9/e+WZCuQHH3ywe/311682YOiPuZ9//vnu/v37V5sx8gYT9X/w4MHuhz/84fV33N67d2/3m9/85vo7cCMyybJs2aof/RL82muvXfeXTPVxez7mDSGzNkR7WucjtrbGq63ny/PPP3/9FRrRT/8R3TeJ2BZ/AZH8F1988QaruIA4FBv7FmOvOCqPnIvRTvf/13/9191Pf/rT69wyP9kZ884xdgzkv+V7jI5vv/329UYh5d3vf//72HzjfJRFtsWxiLbIHuVs7SUZMYdfffXV3SeffHK12eqrr766HqZ+NSbXnf4vjyJr6W/Nsy18sL/eiOUYxLkabYwLFTOL7SvnozaU/NXYWLf+53/+50aOtWrbiN7or9j4J86/+CBP7bFtlEdNj/WpJs/4Jr3iNZpPme0h5uYoi5G4jMpSv8g256z87s1N9WnN89zumPlolqM2S54+YjDOSdeWkgz1v+04y4ZY281Z17xuUG3Pa4bSuDynv/nmm2u3Z331fdP2SLbux4qN7NH3eNZes7pK/juXnQu1+4l0tXLMNqpfL19j39W8iLyiXTX7rbN3zH6ai4+eK+q3Gjszj/NHsY73tFE7Rvwpxf028z7aLD9jDnh9lddvsUY6Fs4Bycv3uLzus07pO1Ttko4cN9dF3XPjmsv29I5Znn33cYt8tN0xDpLfWtv17B6VKf88j+yTjsqDjz766FqN/3vHfey3O0jOiP3qV5oPnpOWv1pHJL9W/1Z0a0ysb7bPx1UO5qZjvOdIrtjn+2Dsr3PZtcpb+uKa2PfP7Ou+c6dUM8xNx7u0Zs3xi+/9+32sp7E9n+c4RaY6d06qn+e2ZcdcU57l9Y3G5PlZyxfZpf4jeVjKBdskOaP3j2i/fG3NlRX/M+ut3tdi7Ou1+2Xk5riO2CTft6yDPZ3SN1In942Jxo/kW89etUe2eQ7pvZ9zzrKszZfMKNfX3J5tGo2/5BxrDstGz2PncrQ75rXscj1yn9lnIWKrPGut3RXbEgNd93jrb60zJCPmmmpN69lmL+ck79zmiH3KLMRvZH2ax40yXB1ne0tHydyyJkreSDxtS/ZphOHM/W5Wj+wZrRPZ11y7rHvmOFJ/78ozTXOLTGZro2TkOLnO+eh7iPq5Frt+x1xjbfjw2tgx2vro+6bjUJO/b25YrmK/ZR203NbxkHkZ9UpPvGeP1Ng4Pp9nu3t1b0W/xhzqmZhk5xovH29zHST9JbtkU+m5hPuPxDXOEdc8HT23PNdi29Zr1JxDrfebbwKJDtrplgGlNgXn5ZdfvrHI/slPfnLj/dNPP339QFXQFbj4AL0VTP+yr5uMHzKq/5NPPnn1hxffpGyb7PHNKre5z6wNHtc7ztrak9fyRW1vvfVW8Y/IkitG5hCTNurUg3v94qqNBn45FoqZr3/xxRe7n09TRQEAACAASURBVP3sZ9d/6HIcPGb0aH8Uy3ffffdqmPQpfzzJoq2K0x//8R/fyCXnqWTlvFO8Y25Ypie1xsScd3vMrejLaJ6UbJGdzgfr8dE+ZF3Kafngh6yOxSiTKM9jR+O4hQ/2N/KM8SjNRzH2XC5xiT6NnI/aUPI31y390vrcc8/dyL/cx7VtVK98iEwiq+if5WnD0r4v53zkP+K/fbPNqtsj+VSSvfXcHGVijpFz5B+ZjMqs5WyrXlm2x0pva56rvzi6hq/YKRn2P+rT7mrVosjE9s3UjUPFuSRXtcF/aHYd9dFsSuNq81X+KhYza5EYj5X6Pqqr5MeMvtEcG8nXrfJixn7rnDnG2Dgf4vjYPmOL50+cK636EfWU7Ig25fNa3LfO+5k5Hm20b2Ixsn7T2MhK3PPLvsU1jvuY/Wjtmp3Po/PE9swczUo1qpQHsX0mH2XDrJ8jds/KjP+h4z9+ZT3mm+M+qqs2H5wXrv8+Zj3Znvxedsz8fjETpxjfUvxlyyiHaLc21+gPWmYuPV7fmYOObp/RU+Jdu386tnFuuq6U5nL0YeTcPkV2M/ZJh+05tzVri4+5rzDu5WRsH8n1Q8bDDPa5f8zOlVn/bePWx1qMo321+HusakCcOy0bNeZQdbClV23Rp5K9sX0kJ6M++TW65o7jRs5L9UnjZlluUV8joxLDlj8am5+j1WySnJmaqv6Sf4jnlC2f3OZ1Qm/tXmIwm2uOwcza2Hb2jpZdm9OxfdbuQ8yR2Ryx//ZjluHqOOstHWfn8Qx321uLp+xZicvs/W5Gj2werROyfeRZdon76LVS/Z2xUXpm8rQkW7U2rk8UT/8oHzTGdvq6jrEejfpb62fWkruyCcRyZWvrWWNsH8n1Eq8t7yuOX+tvB61nC7NzZdZ/c9366HjX1n9Rn/vukxuScVtrQ/kSuZfWNrF9JC8zny3Xh+YtO3vP9mWH+s/q95om6jjk8/xZpo7H7D08xiWfS+bovUdjZ+q6+kv+ba1Rs6+995tuAnGwfHPa5wYiw52cvsn5IXF0yjqVWPkVx8d230RzAagVeOuQHXmMdLo96rAtNRvc3jvO2tqTZ1t7vqi95I9udI5H3rgh2ZpY8br1lRYpbpO8kRtQyTfxWZHdiosLr+zSf2T/6Ec/ut68EhdoehCoXdj6TyYXaBfPEj/7W+Jasyfa8nd/93dVW+IDWnNSPpfYSOYPfvCD601U7l+zQe22vSTPbbU47uPDSv5HfSXW9nf0OGtD5Chepbo10mdVbylG8lVzt1S/RjnEfjXb1GfEN+dMyVa3lfIpxnbLuRl9653XfK/dP3ry1B79KuVsZJrbZ+Z5ZLuSC7Yz1xtfV8yiXOs7lTjbHtmpXyD/7M/+rFjb1R7XL5F/bU5bdo6P4hvHx3aPkb6Z+u5xUZbzrKYr59mMvpkca/lrG23/PnkxY7/1zhxtY85py4jtM7bM1o+oJ84t2zFyjDIOlfezsZTdYjE7LvpSyn+vUfOa0jVqtnaVdNTm2Ow8GYmd+0S/S3kQ22fy0eNm/LRNteOqTN9Dc4ysR9xVs73e1vUVXc6F2bprO3rHWn5o3Kpu+9mrRzNxtC15Dvq6dGV5tiNfl281v+N16SqtiQ85d2Rbre5mu2v22e/MSuPdJl61uqO221qzysbay/WyFM/aGF+Pfm9Zk0byxbpn4+FxpdyWX+ZRi2PWNzJXpGumJpvvVkf7lGMcba/V3JE+NTtjHFu6t2QT47tlTlpu9kO+t/ysscnXW/WppyPqr9WvmfpqX5W3JYbZ9tL7EZusJ88pyXObbMhzMbaV4uF8r8nNzylL9peu1WLkdUu2M86d2RxfWRuXbC5di/xK8Y3tM3Z7XCkmMR9K7SU7dc0ya7H0H5oze41dZbg6ruZDvN7isJovZlSbr24vca/ZY1syd1+XrixvRU/UL123sTZ0rtT4jdho3zMvyXZbqZZFnqewPoz2xGdgMYdHzqPPW9aYQ8Yi2pxzWz77vpJrjZnl2Pt6a66obabGjrCf6WOfSv5mOdGffXJDcmMcs+6oZ2s2McZb5qXlZl96vmbG8f3Kmm1Gvznntb+v53poH3Oey2a39WrcbDyPdS+u3Xvs16zPHlea++LleVeTu7pGjfkzcr7pJpCYOHJ83yIR5ZUS2yBLENUWgxCLthfs+WNIa0GJckpFQ+NmbRgJjvrM2tqT2/Ml6syFQW2tmKio5we0tr/ETfLijaDWp+aTx9bGWXeMvWW1/IiMSgwst5TjcWy2ayVPoryWLSUfVTxLNoqB5mb+aPIWE/ucfTJPx0L6cp99fLDe0bkqe1p+2N6Z46wNI/pH+szqjZxzDOSv8mHfmmxuzq2SnhnfSuOlo5ZP0cfWfCjlfRxb02v/WsfZuLRkua3HrNXuWJRim+f5vgzse+l+rPqm/yiObe5f433sOEf/S/kT7YntLf6O4THr+4ou2dnz3/HK95OZHJOeHi/rOVReZPsdo5ljZFWyM7bHXLEO+5ht8fXRe1rUU7LD+lrHKKNk6z55b39qtkXZsY+vx2vRB8vN/KIvsdZ4rOaG6n8eZ3m1Mbl2rcyx2Xlim0eO0e8Ss9heirH9z1xW/OzZuyrTOVH7fUo+5Pit6Fpl1fPb7a36t6o7jivFf4WDxpTmivxwLudcWtHT4mFm1jeyjvGYmaPll9iN2Of5UxovO5y7+XegGLfMUuMs95Br1hYncck1odU/tkXfSlxie8v3rP9Y8ci1RL7V5kTtusY4t7KPq/5Hxluc12IcOWfbrXekj/vmYxybWR+KTZS7ZU6u1L3Mo/XeOVSyWeNaLFtt1mn5I/W1x9AyW8cRm1z7aj7Xaqr0emwpb1u6JTM/p2z5Edusc2XtXrLT8nL9s981LrVx0dbWeS++sX3G7kPMEftaY2FW+b7r67Vxlnts9q3cXOUex5X8XYnLyv1uRU+Lh3N4pnZ5zOzROkr8Rmx0PpXGyxbnY87TGLvWXDvW+jD6WrpXjHKNfpWYxPaW33l+RvvymsK2bRGLkuzanKhdlz3Oq+zjqv/2cauj7MuMa7Ij+31yQ/KjrMz6kGyi7C3zcqX21Tj7unOnxFrX4t/wVvR7nmT+0i95+ZmY+5e4acy+NS7noeXV9NmePM78esdWDnqsddRssI25rmu8x+a5r7aWbslcXaPa7tHj2W8C8SRRAFo/tYeKEZQLee7bKxpb2hDtaZ3XbG2NUVvPF/VxUmcOanNhEOs88ZTwsZhEXfF6tDH2yfJiv9K5uddkewKW5LYmYLSpNPF77G1XHuvrrTxVW+QebSn5aVtKPtp/yet9v7f41pj0bNDY2CfbEttmfSjFXdfsd2TlvjU/3L7VsWbDiP6RPjU7a3rV3205BtJX+vSXmo7ededyznGN6/nWywfJiH2iL/F6Sbf9L+WF5Lbs7vnca+/pbo3vMWu1z8zzHr+WjR5bY5vHur9qWmneq3/sc4w4R301m5wj0Z4Wf/vtcceo7yu6Mu+S/87h6LvGzeSY+rd4jcQg9om2xOsz9jtGM8eoq1RrYvsWtph9nl9RT8mOEZ+ijJKtkuGcirxbcdSYEbmxT5RtfTV7nHNxzIhOc4zjbENm22Jn+2bms22WnpE1V0t/brMPsqeUB7G9xLTERTpW/My25ferMls+qE2fYhMffKza39IjmTVW2c/a+9a8WdUdx5Xiv8Lc+Rrnin1yW36AsaKnxSPrO8TckQ7bXWLXsy+yL80tyY99Is94vaTbuVarTS27zW71KN01vSMye77F9hI3+x55Se+x4jFjk+dDtlX2ui3PlVX/R9iP9mnFOHLOtlv+SB/3zcc4NrM+FJsotzTfYnu2SfbXctLzcGY9kHm03lt+yWaNa7FstVmnc3SkvkZGNXsst3bs2RR1lOIgubFPnndbPaes2T9z3TmTa2m0v+Sjx2XfnAulMbLLsczjRm2OdpXiG9tLNvTs3mqO9OyQv7FP5LHKcHXcKPvWvIi+zHCP40rxtE8zcWnlmNvyPWNFT4uHmVrfSO3ymNmjbS/x69kY+ZfiJltin5in8XpJt+dari32r2W3+8wco6+lPz6Pyur5FdtLzOx3ZCXd0b7SuJ5cyYh9ovx4vSS7ZpPzM8oyJ7flubKqy3K3OMqfWl6V5Ef2++SGZEdZmfUh2UTZpfkW27NdsruWA56HMzW2xDhec+6M1L1Z/fZzNP7uL/9KXGR37BPnQrxeGttjWhojfeYTdUV+vfNWDmZ/ajZE37Idp7RGrbHYdBNIhKFEOWSRkEMO4GgS1yB88cUXu1/+8pdXu55kd5YX/cpFYysbarbl6z1bc//8vuWL+8Y+OfHF6d/+7d+uvp8vxlhj8sfXeAK0ioZ0unhl7randDT3aEPu1yoQcXz2Mfqf4y0dLlg1e+1PHGt9tTHZdr+PtmQ7oy25+Kgt8ndet/4wYRtzvKKckg221X5nH/fxwbJ9HMn/mh+Wse+xZ8OI/pE+2c6eXvWvyVXOxnzMsmffO9YlmTUbrGOffIq5VNK9Mjdt1+pxJC492T1mrfbIszfPe/xadlpPnt+1Me6f60nu71yKcnt2rsY5yq3VspLsFn/54/boQ/az9L5nj22J9X1Vl/Sv6NO4GMtejqm/bSzFPsqqxUAyenlRGlviJVkrr8iqVGti+z629OpH1FOyY8S3KKNkq2SYXczhVhw1ZjWWUW7t94Ta+q3ni/2Ic8Z2Rt9a3GzfaH/Lsh7l/cg88biRY/S7lAexvRTjEpdVP1v27iuzZKf06fprr712Q/WqrhVWNxR33tiuUv1b1R3H5fhb32y+1ljLPc+/+PByVY/HlXgY5SHnjnT4fpLZqa1nX7StNLfsg3XEOLTipnGOQRxjeTpaZsnu2G/23D63/OnJ7PkW20t67Hus1dJp22r5slU8Zmyq2Sp7S3NF11f973EfbTfHkp/ZvjjPo3zLUCxmczCOzTYcik2UW7I3tmeb5HcpzvajNkcjr9Xz3jy3DaU50WqzPXHOSIZ8qT0PioxKDC2zdezZFO0pxcGyzSWzjzbm8TPPKa1n5Tizds82Sl8r1xSj2bXxqA+RXSm+sX3W7hynUZtK/VZzJObeDMPVcSXba9eijsx2hbv0xHE5ntY3G5dSbtqn0v1uVY/Hleqa9cU86NUuj5k9us5kfpLTszHal2Ma7bCOGItW7DTWcYhjSjJLdsd+o+fR19rcGZHV8yu2l5jZb9aG33/oHx9G+Pf6OM4l9rWxHtO6N9XG5utRVrZhNTeyjtL7KLs0Z2J7tkvySnlpX2pztGTHyLVYV1p1b0W/ZY/a7P6tOi2fejVulmkr13wfyjVihK36mFvNp318lvxWLh1rjdpjsekmEClzAtSg9gyK7b0AuX00iaNsnX/wwQe7+/fvX/8y9P77718/uP3oo4+uu8dA5qKxrw3XSjono7Z2xNxIyuxLHOvJFR8MaEL4IazjbBlqyx9fMzqBrMtxjOOUR/HHfcxdbbWFiuWWCkQcn4tSK95i5JuAbYncdJ7Z6Jr11cZkGX4fbcl2qo9tKfmodrFUjmeGv/3tb63i+mgb1TfqivGI168H/t+JeWcf9/VB4mfyv+ZHtnf2/agNI/pH+ti+Ub3u7zjEuaucrM0Tj5s5lnLc43u+7ZNPMZdce6xXR8+HnIPu07LbfUaPs3Fpye0x67WPzvMev5aNjluNbR7r/rme5H7O1yi3Z+dqnKPcWi0rye7xd3v0IftZet+zx7bE+r6qS/pX9Nnu0RxTf9tYiv1WeVGKX4mX7Z89RlalWhPbV2wZrR9RT8mOEb+ijJKtkmF2MYdbcdSY1VhGubX7kutCzH3p7PliP+I42xl9a3GzfaP9o6yZeRLH9c6j36U8iO2lGJe47ONnzd59ZXq8akfMDf3SHH8vk373nY3TCquav6XrtqtU/1Z1x3E5/tY3y8HjMmv55LVSzCX330dPlJfZHWruRH8yO7XZr1K81O76UWu3H65ZkU8rbhrneRnHWJ6OjkPJ7thv9lxy/fv87Fj37/kW20txt++xVkv2seKxalOsS7LXMcryVv03332PIzG27TkG1j2a++4fj604HopNlFuaM7E9x0u2l3LSftTmaPR59dxxKNksmbahVINabdGe0foaGdXsiXJL5z2bRvOqVFOtz23xWYfkuq5lpmrLzykta+a4snafzbXSPdk22u/anHW/2rEX39g+a/eWc2Q1R2Lu5VptJiWGq+Msc+QYdWS2K9ylM47L89X6ZuPicaU89LyK9rv/PnqivMxSuTD6LDuPHXlvnzI/jbVvpdqr9tU81dhW7NTu+1GNa8tujZ99RV9rc2dEZs+v2F6Ku/3ONS7aVxq3VSxKskdsyswcnyxv1f8R9iN9ZJfvkyP91Seyz36OynC/KOuYbCL30lyP7dku2V7KAftSm6P2eeU4UvdW9HuejNrs/rUaaN98X41y92Fauv9kXblGuL13NLeaT/v4bN3mcew1qvX3jptvAvEEEdTodM+QUnsvQL32kkxdU0K+/vrrV38YVxH85ptvrrra9pi87v/iiy9e9c9FY9WGmm35+qyteXx+Hydj9iX2dfJHFkpmF36z8uRTWy6YlqFcaOnyJLGuOE5j44/7jHC3XNsY/WuN7zGy77YlytW5b/rR55a+PD6+j7ZkvupnW0o+Rjn+pTWyzPJqNsZ4RJ+ifJ2bd+ayjw8aOzNXZUfNj2zv6PtZG0b0j/SZ1Wt/HC/HQbq2/CoY6SnluPX3fLN9s3VB8mMulXLR88G+2yYfW3a7T++4GpeW3B6zXrtl9+Z5j5/llI4xbrl29PqXYuUxpbrRs3M1zlFuzQf7GXOox7/Xbl/zsWeP/Yz1fVWXdK/oyzb3ckz9Wzaa777zvxS/Eq9s/+j7yKqUv7F9xhaNm7mnRT0lO0b8iTJKtkqG4zKT9x4zG8tWftgf14WY+2rr+VLKgWhnzX/r1XHEvti/dD4yT0rjatei36U8iO0lH0tctvAz27uFTMfev0MqfqU/3qzqWmGV/Wy9b9m1qjuOy/Fv6WvZqTbPDc2zTz755Kq7/yHC/C1jVc/suK3njuxvrf169pnRbJ2T3lbc1O55Geuueffsjv1mzjW/Zh8Al+T3fIvtozVJeo4VjxmbZJfzYGSuqP+q/yXWs9dGY+xaW8s/+6zc9/OfUVtacTwUmyg318nVmLT8GGXR69eqTxrbsqHVVtLbq689hiWZ+VrPpphXpThZXis/LSPmrvo7T11bvYZUW2nOW1fvKC6ra/eS3myf9Pe4qY+Z2K+e3bm9F9/YvqXd2Y7ee8d39r67ynB1XM+P2N7SscJdsuO4PJda+qJdpXPzH7nfreqZHderXSU/Rq616m/PRnOazVPZ1Yqd2l0jYo2L/rTsjv1Gz6OvrqOjY2O/nl+xfbTGSH60rzRuq1iUZDsWpbprvSNzRX6s+h8Zr57r/rGy/o/s98mNXhwPySbKzrVyNS6RSylvVuMUx7Xq3op+56tq1ojNsX+Jm2312iTWq8i8pKs0r0Z8sq7SfLQ9rWNPxz4+W69lRB6y2/Mn+662EiPL2/q4+SaQGOzo9IjhGvv3f//315syegGKuvLDqqzv7bffvvpIpTgmJ7KDke1ujYltozZk22rvo+xRW2uyfL0l0310jP2UkIrFj3/842JsxDZ/FYxkxPi12Hgit/pE20ZlW26pQETb8oSLvmfu0l3LE9tYWpRFmT0/nauSF8dlO6MtJR9tTzzq4e7jjz9+tbEmj6kxiddbtpt37rPqQxyX49CKQbS3xCzy6J2v2DCiv9dnRW/0JeagWGV+se/KeZSfx/d8i+05V6KsUj61uGhsKy/U3rI76q6dt/T3dNdk6npkUsrZXnuWXZvnLfuzjPw+2tCKm+qX/mN7tP8x4xz9L3GWz45j9DH6UhoX5cZxmaHe71vfV3VJdxxb8sO+53tDyY9ajqlvi1dsa7Hq5cW+9pd8itciq1L9jO2jtsQxWabZz6w/o72t86i3ZKvGWn+MSYxVaVxsj+OyLTmWI+M8Judizxf7EceN6JPNrl1RR8svj/nqq6+yy9fvW/PkutPASbQp546Gx/ZSrEpc4ph9/bQLW8jMvzgrF0o+reqK40pyS6zs38gx5luWv6o7jsvxj20rcdSnrDz33HPXG+5Vg0pfFbCqp8WjxXOruSMdrbVfz77Y3uLrmhX7RGY5brLLuZbrvrm07HafmaNsjPbNjM19e77F9jwPJMu+x1qt65F3aVxsb/nSi0dJds0m+z46V9R/1X/rWj3OxNi1trbJo8ejZWOMU2Z9KDZRbmm+xfZsk3wp+RvHtPJN4+P6vsUmt/XmeYtlqy3rie9r9TX6W2IYZdTOezbF9hbT0hy2zminYimZs88pLat3jLoyE+dMruFxzGiujXAxk1w3ez64PdqVfVGf2D5qdxzTiqfkj86RERaSZx7WOzLOYyLD1XHmOnKMOjLbyDC3SbbzLNqs63FcjmdsM5+anaW4jN7vVvW0eNTs1PVa7WqNabW16m/PxtjeYuyci30itxw72euY59piX1p2u8/MMfriP1TOjHffnl+xfSbXo32lcbE9crZdPvZiUZLtWOT5Z5mjc0X9V/23rtWj/G5xacmNbPfJDemIsjLrQ7KJskvzLbZnu2R3KQfimB7bUo1tMc9tpbq3oj/yb9kse7d8nj/KdMQ+z+HafMzs8vuoo2RXbG8xsh2lPjE20iGZh1qjZv9G3m++CURK4y+VJSg1w/7hH/7hxsf9xgCUAiQ5ht/azRShR9tyEfPkzjfbGMRS0Zi1oeZ/vr5ia5aR3/d8if3NQzF86623rncuuY8XH/fu3Sv+l576uU/tAUPsU4ux9eVjlF0a67iUCkQrt3qMzCXnie2zXTlXbM9orkpetKXko20p+ejibbt8dF7lMS0m9mkljqs+2M6STvtdikHLDzMYPa7YMKK/12dFb/TJfBTjP//zP39o7sa+K+fOh5zjktXzTX08vhRb2+M+Me9jLpV02+9SXkS9pbHW2zruG5ea7B6zVvvMPO/xq9nn645JLW6S/+qrr15vFuz1l1z3OUacR/x3nY72tPibjceJTRzrdh0lJy4Aoz2lMc7nXKtXdEn/qr6ZHLOfTz755NUfFUt+Oea1PJIM94njV+2XvNlX1FWqF7E92mg9pdit1I+op2SH9bWOIzKcU9GXkbx3nGZjGcdFnfbD9uTc7/liuXmcr9fslNxYu6x/Zj7PzhP7OnLs+R3bSzxL+Si9K3727N1CpuP1/PPP7370ox9Vvxd5Rdcqq57fbm/Nm1XdcVypDqxwcPxL8uxLPq7oafGw/EPOHelwPpV8HbHP42v1I+qI868XN8/LQ61ZzVdHPUAsfaKO+8jWf/7nf/bb7rHnW2yPTCzYvudafZvxcJyzTbJZuV/KH/uTj6v+Zzkz71dibJ9LMXLbjN+2txXHQ7GJcks2x/aSv7WcXKl75jBy7HFusWy1WfdMfY2MSgwts3Ucsck+z9bUqNfx2uc5ZZRXO9937T6Ta5FLaZxzsVSjavbH6734xvaSfjPP+m3XzJo52lU6jyzyM3v3d59oq6/VbLGt2YfVcbald2zNi1XucVxpvtrXGgvZLLviswld07iSvJqPK3paPKxnpnZ5zOzRcS/5O2Kjx8/Wsl7sPNeOsT4Us+hrbb6NsO35FdvjvLVs+53nZ7SvNE7jDxULy802SefsXFn133xWjitrw6gnst8nNyQzyspxPCSbKLs012N7tkt21/JypfZFtqXzmbq3ot/5XKtZYhGfifX6ywf3iexWmVpW7b5ln0vzscQzX2vloPtGG2o57z7RZ4/X0Tlz6DVq1Dl6fpBNIHbanzgwshFEyZ4BjwQo9lGiKGH9kbay4/PPP7/6lAoHZ2Qh7wmhvr///e+vWDrISjbJl1x/asmsDaPBWbW1J7/lSxwb/SpNsmif+cbxOo8ySnlgGaW2LCu/91jFSz+/+tWvrv74qIKjTSv+z7bS4inalW2PBat0k/CELsmVjeabfYo6R3I18yvZ4iJYskVtpTG2o2VfZuIxsjuPk52ORaktji3ZU/PBMqUz1wbHwG3q67ka9WU/cg713q/YMKK/12dFb/Ql5nBp7sa+s+dRdi/eNf7R/5IM+5/bou5SLjkvSvNBftbm5igD2+W8i+Os223q65yM/UrnkUeJWat9dp6bQeleVrItXov+i7Hu234pNqq70f5od46lxllebjtUnKPcrFP22N48Z3xdsY3+2fc4Vn3001uL5DEz+RztGdU1oq9Wi2dzLNpX4hXbS3Go5UUcV+JVsz/Gaea8NVd6trgexFpkvxSzmXtay44Rf46V9zOxjCzEY2b9Zh5i++67714h0Jr8b//2b3f/+I//eDX/Ind1iPpma9foHJudJyOxi33sd6l2r+SjZMdxo35Gm0rnW8j0/JFNpbluvSu64piS7H3rSJSf619sm9U9Gv/ROHpOzHw0cLR/VE8ck3k4joecO6P1T/7U7Is+zNS5qLsUb+d5rlfm4piXdLrPyHHkAbD+kzHfl3qybd+hatLW8ZA/tnnl/rE6V1Zi32Of21dj7DpQW/fm61lv7X2cMzmOsa3EZp8a7PgeKidH616NS74ea0RtnkdeLZa5zbpm62uLoWW2ji17PS72KfntvCy1lWSU8tQyWrXdslrHKCfXSNdw6VCb+up3/+jfTI5HXZI5szZu+RDbWvHt2W1/8z0rjttqjkSZpTwwq9zm67JjhuHquMi2dR79yXM1ts3ki/SNxnM0Luawer8b1RN9zjzMcbZ2edzosVd/R2yMfXIuyg7zzG1Rdynmtblm3xz3LNfts8foR65zs7Js26Huw7V8iT6UuNRiIf9sM2vDh6Mdue6bG1FWjmNsK82JfdaGMcaHysvR2vcw4ZtXZupeZDaq3/NA/ZXvh3qeH22biWe0TzZuvQ6KduUcdCRin9laUpJxyDWq9c0czMSCPAAADNpJREFUD7YJREYogPfv379+IKuPl/3ss8+u7dPNT99z9Jd/+Zc3PgHEHfQLrQKvn1LiuJ8e/vq/Tt0/HuMiJt5wXQB07cGDBzv9x1kcFwPuohPbYxGcscF2946rtvbk9nyJ431DLE0Q25d/EYjjdR4nsph6k46YKT+efvrp6n/5ZVn5fcyRGBvp0R8kfU02/tEf/dG1HhU7t6lv/DjvKNM5Yr3y2Uw0PnOJvpa4zOZJz5YXX3zx2o9si+Mc/xhp+2VbzF/512Ki9ujbTBxXfXB+ibPjoGu9udrzw7EcOa7YEP2t1a1enxW92R/Hv2ZD7j/6XjXbG/yUR/4jnMf3fHO/lXyKsp0Tlidm+8xNy2kdt4hLSX4vZ1vtjvPoPHd/1z8dcy0o2ehr/qU0jve56sI333zjrlfHU4pzjJ9s1tywvarNqqeluh3zrjWftq7vrXye1aVgRD9K86d2P3HOjOZYK1+dHIfIi5r91jl7tN/Obx09V3osS7GL+Wf+uta7p7XsGPEp6j1E3q/EUnZHhpFxb/0W9Xmc1zSxPulaXPfFNo/zsVS7ZueY4zQ6T0ZiF/tYvm3WcZ98tOxZPz2uddxXZvzl2z7W9M3qinnneWjZea7kdbX7tY6t+reP7lb8Zc8sh9Z8cI5pDsmf+JrVE32u3T/t2yHmzl1esypukb/jWjpqLsTfhWPMa+eOW5Tn+Rr1luZZ6R6Z7a3li/rF+8DM76RxnO3u3T9W5sqq/zXWretRl30qHWsxtn9eE2uO19bDLTti26HqYNRROj9ETkrPbN0r2Va61qtPGjPKsjZfzGS0vrp/zCHP65IP+VrMx5pNGhPn4swcjvpcR0r3at/PNb/1searL8sRD9cyXWut3SMDj7H+KE8ys+1xbIxBb21s+b1jK75Rd8lu8y7ZfYg5spoj0Y8ZhqvjeszVPjqPS9xbv9+24im9s3Hx/SByy+eXsDYUm179jfmwdS2Lsksxb821OC/2rW/OXdnj57v625mfj7l95tjKyVW/47itYyHfIlPn+11fGzrmW+bGoeqgbW0dD5GX0jdbY1s2qs12jq7ZVvS36nzpmVicH6PrtThnSzWudV+LYz0fddxiHRRlH6KWxPi6jud1nvp4LViq4W6zz/vU42iPzw+6CcRKdIP96U9/en1jcSD/9E//9OoPiCWnDMx9fSwBNET9F4tvXuqvzQX5D5Tqq4eL3pyifp5g8Xq++SkQr7/++tUf3EsLn1kbzKZ3jDaN2tqTOeKLZahAaNLWHgypSJUKhcf7KJ05PvoaGd0ISvH3uJGjilKMp2PnAvqTn/zkOs/ihHJO+ahfcFt5F4ufx+hoPtYX23Sec7bEopSrNVtkZ82WGAv104YbFbof/vCH15tFNO+8EUd8e0xiDEq2t+K4rw8z+T/jR/Spdz5jQ83fmAMjfWTTjN6SDxqvzXEzD25KcnzN8nJ++718HPXNMmfyqSW7Nh9m56btah33jUuU3cvZXrtkjc5z65XM3r3MfWtHLTbjpslWDZCMU4lz5Kl81f0nrhm8Foh+t/Iu9vN5yddD1Pca15Iu9a35MXI/Gc2xyNd1wcdSHSqxquXSPvY7NrNH2VeaK/vYslI/anaM+hPjcsy8r8Uy2j2zfovjtK7x3FXO+wG/f6nVuu9f/uVfHlpfblG7anNsdJ5EP2bOa3mwTz5av2TnNXrNT4/pHfeVOfr7hewY1bUFq5rfsiE+0HDt01G5sa9uyS/Vo2jPKAePUcyjnaXz2sOJkXyp+RzXxLLlEHOHNev4BhDFvfUgzPmSj7WcrMVdca6t1/X7689+9rNiPuZ8sR2lfB+576zcP2bmyqr/K89D4sPM0vyN11oxzvfi0nrY3FtHxeSQdbClW21b52SMSSnfVu+TI/VplWWeL7P1tcawx17ttdzPNllWienIHPb4rZ5TWl7tOLN2rzHo1b+Ya3k+tp5t1myuXa/Fdwu7S/FcnSO2vyRzJEdWGa6Os735KPsPWRNr8Yx2lBi24jJzv1vRU8u1XCdma1e0pXU+Un9HbbSeEuNanrZkK//8+228fx/imaZs9+/NUZfPW2sG+1061nKy5nevNrI2vPkPdiXm+doWa8Mtc0M5ccg6mP0vvd86L+M9uzT/WzW2ZJ+vrdS9Ff1bPBObrXG9uR6Zbn0vFt9aDcr3HseixLXms8fE4+oaVXo9X+Lfd6Psfc6PsglkHwMZCwEIQAAC8wT0C84PfvCD6gaueYmMgMB5E4gLqtpi77w9xHoIPEyAvH+YCVcgAIHv/jNVD2Rqr//8z/+8+sM898saIa7fFQLaNMxcuSvRxk8IQAACd5cA97u7G3s8nyPAXJnjRW8IQOD2CbAJ5PZjgAUQgAAENiegnYf6zxFeEIDAdwT4YziZcBcJkPd3Mer4DIE2AX3Sysh/+WktySaQNktaL5sAc+Wy44t3EIAABCDwHQHud2QCBMYIMFfGONELAhA4LQJsAjmteGANBCAAgU0I6KMcW/+1tokShEDgjAjwx/AzChambkaAvN8MJYIgcBEE/HHTvc0dqh0vv/zy9dctXYTzOAGBCQLMlQlYdIUABCAAgbMlwP3ubEOH4UcmwFw5MnDUQQACmxFgE8hmKBEEAQhA4DQI6KtgfvzjH+/i96qdhmVYAYHbIxC/A3bkP6Bvz1I0Q2A7AuT9diyRBIFLIBC/5/nVV1/d/cd//McNt7T544MPPtjdv3+fT5S7QYY3d40Ac+WuRRx/IQABCNxNAtzv7mbc8XqeAHNlnhkjIACB0yDAJpDTiANWQAACEFgmoIXo448/vnv66ad3n3zyyU7fT/jRRx8ty2MgBC6RwPvvv381Tx555JHd97///au5col+4hMEIgHyPtLgHAIQiJ8OpPth7af3SSGQhMClE2CuXHqE8Q8CEIAABESA+x15AIExAsyVMU70ggAETo8Am0BOLyZYBAEIQGCKgD+STg/y9V+d2gjCCwIQ+I5A/CSE/McuPhGELLlUAuT9pUYWvyCwDYFPP/109/zzz19vjtT98Xvf+x7ryG3wIuWCCDBXLiiYuAIBCEAAAlUC3O+qaGiAwA0CzJUbOHgDAQicAQE2gZxBkDARAhCAAAQgAAEIQAACEIAABCAAAQhAAAIQgAAEIAABCEAAAhCAAAQgAAEI9AiwCaRHiHYIQAACEIAABCAAAQhAAAIQgAAEIAABCEAAAhCAAAQgAAEIQAACEIAABCBwBgTYBHIGQcJECEAAAhCAAAQgAAEIQAACEIAABCAAAQhAAAIQgAAEIAABCEAAAhCAAAQg0CPAJpAeIdohAAEIQAACEIAABCAAAQhAAAIQgAAEIAABCEAAAhCAAAQgAAEIQAACEIDAGRBgE8gZBAkTIQABCEAAAhCAAAQgAAEIQAACEIAABCAAAQhAAAIQgAAEIAABCEAAAhCAQI8Am0B6hGiHAAQgAAEIQAACEIAABCAAAQhAAAIQgAAEIAABCEAAAhCAAAQgAAEIQAACZ0CATSBnECRMhAAEIAABCEAAAhCAAAQgAAEIQAACEIAABCAAAQhAAAIQgAAEIAABCEAAAj0CbALpEaIdAhCAAAQgAAEIQAACEIAABCAAAQhAAAIQgAAEIAABCEAAAhCAAAQgAAEInAEBNoGcQZAwEQIQgAAEIAABCEAAAhCAAAQgAAEIQAACEIAABCAAAQhAAAIQgAAEIAABCPQIsAmkR4h2CEAAAhCAAAQgAAEIQAACEIAABCAAAQhAAAIQgAAEIAABCEAAAhCAAAQgcAYE2ARyBkHCRAhAAAIQgAAEIAABCEAAAhCAAAQgAAEIQAACEIAABCAAAQhAAAIQgAAEINAjwCaQHiHaIQABCEAAAhCAAAQgAAEIQAACEIAABCAAAQhAAAIQgAAEIAABCEAAAhCAwBkQYBPIGQQJEyEAAQhAAAIQgAAEIAABCEAAAhCAAAQgAAEIQAACEIAABCAAAQhAAAIQgECPAJtAeoRohwAEIAABCEAAAhCAAAQgAAEIQAACEIAABCAAAQhAAAIQgAAEIAABCEAAAmdAgE0gZxAkTIQABCAAAQhAAAIQgAAEIAABCEAAAhCAAAQgAAEIQAACEIAABCAAAQhAAAI9AmwC6RGiHQIQgAAEIAABCEAAAhCAAAQgAAEIQAACEIAABCAAAQhAAAIQgAAEIAABCJwBATaBnEGQMBECEIAABCAAAQhAAAIQgAAEIAABCEAAAhCAAAQgAAEIQAACEIAABCAAAQj0CLAJpEeIdghAAAIQgAAEIAABCEAAAhCAAAQgAAEIQAACEIAABCAAAQhAAAIQgAAEIHAGBNgEcgZBwkQIQAACEIAABCAAAQhAAAIQgAAEIAABCEAAAhCAAAQgAAEIQAACEIAABCDQI/D/AExvpP5VPsc+AAAAAElFTkSuQmCC)"
      ]
    },
    {
      "cell_type": "code",
      "metadata": {
        "id": "N9eI2ewxFOr2",
        "colab_type": "code",
        "colab": {
          "base_uri": "https://localhost:8080/",
          "height": 52
        },
        "outputId": "4b3944ac-8042-4355-99d9-ee7bfe0800ae"
      },
      "source": [
        "import numpy as np\n",
        "output = np.array([[x for x in range(2,21,2)],[x for x in range(1,22,2)]])\n",
        "output"
      ],
      "execution_count": null,
      "outputs": [
        {
          "output_type": "execute_result",
          "data": {
            "text/plain": [
              "array([list([2, 4, 6, 8, 10, 12, 14, 16, 18, 20]),\n",
              "       list([1, 3, 5, 7, 9, 11, 13, 15, 17, 19, 21])], dtype=object)"
            ]
          },
          "metadata": {
            "tags": []
          },
          "execution_count": 18
        }
      ]
    },
    {
      "cell_type": "markdown",
      "metadata": {
        "id": "4dSluKiLPHAc",
        "colab_type": "text"
      },
      "source": [
        "## **Array Attributes**"
      ]
    },
    {
      "cell_type": "code",
      "metadata": {
        "id": "t-f3DWknLHc7",
        "colab_type": "code",
        "colab": {
          "base_uri": "https://localhost:8080/",
          "height": 52
        },
        "outputId": "19b8bebd-5683-4a92-e50d-9196ec6014c7"
      },
      "source": [
        "integers = np.array([[1, 2, 3], [4, 5, 6]])\n",
        "integers"
      ],
      "execution_count": null,
      "outputs": [
        {
          "output_type": "execute_result",
          "data": {
            "text/plain": [
              "array([[1, 2, 3],\n",
              "       [4, 5, 6]])"
            ]
          },
          "metadata": {
            "tags": []
          },
          "execution_count": 31
        }
      ]
    },
    {
      "cell_type": "code",
      "metadata": {
        "id": "crJU71F8Q4hC",
        "colab_type": "code",
        "colab": {
          "base_uri": "https://localhost:8080/",
          "height": 34
        },
        "outputId": "94e4fd8b-1872-4bb5-d4a8-c9b77abc2e5a"
      },
      "source": [
        "floats = np.array([0.0, 0.1, 0.2, 0.3, 0.4])\n",
        "floats    #NumPy does not display trailing 0s to the right of the decimal point in floating-point values."
      ],
      "execution_count": null,
      "outputs": [
        {
          "output_type": "execute_result",
          "data": {
            "text/plain": [
              "array([0. , 0.1, 0.2, 0.3, 0.4])"
            ]
          },
          "metadata": {
            "tags": []
          },
          "execution_count": 33
        }
      ]
    },
    {
      "cell_type": "code",
      "metadata": {
        "id": "BwBvJyeBQ9dD",
        "colab_type": "code",
        "colab": {
          "base_uri": "https://localhost:8080/",
          "height": 34
        },
        "outputId": "ad9b2589-afbc-4690-889b-cd2b61b9274d"
      },
      "source": [
        "strings = np.array(['apple','big','cat'])\n",
        "strings "
      ],
      "execution_count": null,
      "outputs": [
        {
          "output_type": "execute_result",
          "data": {
            "text/plain": [
              "array(['apple', 'big', 'cat'], dtype='<U5')"
            ]
          },
          "metadata": {
            "tags": []
          },
          "execution_count": 36
        }
      ]
    },
    {
      "cell_type": "markdown",
      "metadata": {
        "id": "WrHUsrbZTpyi",
        "colab_type": "text"
      },
      "source": [
        "Checking an array's element types"
      ]
    },
    {
      "cell_type": "code",
      "metadata": {
        "id": "xllXNh65RNvT",
        "colab_type": "code",
        "colab": {
          "base_uri": "https://localhost:8080/",
          "height": 34
        },
        "outputId": "4680c575-ac80-4fee-8d23-34088c703b10"
      },
      "source": [
        "integers.dtype"
      ],
      "execution_count": null,
      "outputs": [
        {
          "output_type": "execute_result",
          "data": {
            "text/plain": [
              "dtype('int64')"
            ]
          },
          "metadata": {
            "tags": []
          },
          "execution_count": 37
        }
      ]
    },
    {
      "cell_type": "code",
      "metadata": {
        "id": "f28Y7hhkT3eu",
        "colab_type": "code",
        "colab": {
          "base_uri": "https://localhost:8080/",
          "height": 34
        },
        "outputId": "cca8f52c-51a5-42f2-aa58-95b7bee6c8e9"
      },
      "source": [
        "floats.dtype"
      ],
      "execution_count": null,
      "outputs": [
        {
          "output_type": "execute_result",
          "data": {
            "text/plain": [
              "dtype('float64')"
            ]
          },
          "metadata": {
            "tags": []
          },
          "execution_count": 38
        }
      ]
    },
    {
      "cell_type": "code",
      "metadata": {
        "id": "HZxSs5Q1T6tp",
        "colab_type": "code",
        "colab": {
          "base_uri": "https://localhost:8080/",
          "height": 34
        },
        "outputId": "dc954f83-4e5e-4403-f687-d6c8c96b8714"
      },
      "source": [
        "strings.dtype"
      ],
      "execution_count": null,
      "outputs": [
        {
          "output_type": "execute_result",
          "data": {
            "text/plain": [
              "dtype('<U5')"
            ]
          },
          "metadata": {
            "tags": []
          },
          "execution_count": 40
        }
      ]
    },
    {
      "cell_type": "markdown",
      "metadata": {
        "id": "Rm7FH1u0ViPv",
        "colab_type": "text"
      },
      "source": [
        "Checking an array’s Dimensions and Shape"
      ]
    },
    {
      "cell_type": "code",
      "metadata": {
        "id": "XFiq7G-WT9bd",
        "colab_type": "code",
        "colab": {
          "base_uri": "https://localhost:8080/",
          "height": 34
        },
        "outputId": "079d3992-349b-4a96-82a0-e2485d16bfc0"
      },
      "source": [
        "array_1D.ndim"
      ],
      "execution_count": null,
      "outputs": [
        {
          "output_type": "execute_result",
          "data": {
            "text/plain": [
              "1"
            ]
          },
          "metadata": {
            "tags": []
          },
          "execution_count": 41
        }
      ]
    },
    {
      "cell_type": "code",
      "metadata": {
        "id": "dGmaHYONWBTJ",
        "colab_type": "code",
        "colab": {
          "base_uri": "https://localhost:8080/",
          "height": 34
        },
        "outputId": "e09340ac-5c0a-4f0c-a03f-20ab8bd129fb"
      },
      "source": [
        "array_2D.ndim"
      ],
      "execution_count": null,
      "outputs": [
        {
          "output_type": "execute_result",
          "data": {
            "text/plain": [
              "2"
            ]
          },
          "metadata": {
            "tags": []
          },
          "execution_count": 42
        }
      ]
    },
    {
      "cell_type": "code",
      "metadata": {
        "id": "0zwP8X4eWHEN",
        "colab_type": "code",
        "colab": {
          "base_uri": "https://localhost:8080/",
          "height": 34
        },
        "outputId": "01140c6c-6958-426f-a82d-5e44ca86411a"
      },
      "source": [
        "array_3D.ndim"
      ],
      "execution_count": null,
      "outputs": [
        {
          "output_type": "execute_result",
          "data": {
            "text/plain": [
              "3"
            ]
          },
          "metadata": {
            "tags": []
          },
          "execution_count": 43
        }
      ]
    },
    {
      "cell_type": "code",
      "metadata": {
        "id": "TVLLPSO-WKxM",
        "colab_type": "code",
        "colab": {
          "base_uri": "https://localhost:8080/",
          "height": 34
        },
        "outputId": "1174a981-f4eb-469c-b948-b662659c224a"
      },
      "source": [
        "integers.ndim"
      ],
      "execution_count": null,
      "outputs": [
        {
          "output_type": "execute_result",
          "data": {
            "text/plain": [
              "2"
            ]
          },
          "metadata": {
            "tags": []
          },
          "execution_count": 44
        }
      ]
    },
    {
      "cell_type": "code",
      "metadata": {
        "id": "7Rp8BX-oWSbD",
        "colab_type": "code",
        "colab": {
          "base_uri": "https://localhost:8080/",
          "height": 34
        },
        "outputId": "c834cac0-0128-4e02-d918-3c406f412677"
      },
      "source": [
        "array_3D.shape"
      ],
      "execution_count": null,
      "outputs": [
        {
          "output_type": "execute_result",
          "data": {
            "text/plain": [
              "(1, 3, 4)"
            ]
          },
          "metadata": {
            "tags": []
          },
          "execution_count": 45
        }
      ]
    },
    {
      "cell_type": "code",
      "metadata": {
        "id": "y8YPsboHWVqe",
        "colab_type": "code",
        "colab": {
          "base_uri": "https://localhost:8080/",
          "height": 34
        },
        "outputId": "640600f8-4462-4901-b983-03bfcd8955d3"
      },
      "source": [
        "array_2D.shape"
      ],
      "execution_count": null,
      "outputs": [
        {
          "output_type": "execute_result",
          "data": {
            "text/plain": [
              "(3, 4)"
            ]
          },
          "metadata": {
            "tags": []
          },
          "execution_count": 46
        }
      ]
    },
    {
      "cell_type": "markdown",
      "metadata": {
        "id": "DRrI0guTfOu-",
        "colab_type": "text"
      },
      "source": [
        "Checking an array’s Number of Elements and Element Size"
      ]
    },
    {
      "cell_type": "code",
      "metadata": {
        "id": "WIRp3WbLWaM1",
        "colab_type": "code",
        "colab": {
          "base_uri": "https://localhost:8080/",
          "height": 34
        },
        "outputId": "48579496-4d29-44f5-973c-0084b700e190"
      },
      "source": [
        "integers.size"
      ],
      "execution_count": null,
      "outputs": [
        {
          "output_type": "execute_result",
          "data": {
            "text/plain": [
              "6"
            ]
          },
          "metadata": {
            "tags": []
          },
          "execution_count": 47
        }
      ]
    },
    {
      "cell_type": "code",
      "metadata": {
        "id": "aC3ICsbHfWjh",
        "colab_type": "code",
        "colab": {
          "base_uri": "https://localhost:8080/",
          "height": 34
        },
        "outputId": "8faf37ad-0fb1-4824-9b8b-0d0a191655c3"
      },
      "source": [
        "integers.itemsize"
      ],
      "execution_count": null,
      "outputs": [
        {
          "output_type": "execute_result",
          "data": {
            "text/plain": [
              "8"
            ]
          },
          "metadata": {
            "tags": []
          },
          "execution_count": 48
        }
      ]
    },
    {
      "cell_type": "code",
      "metadata": {
        "id": "maD1tc1Ofa7x",
        "colab_type": "code",
        "colab": {
          "base_uri": "https://localhost:8080/",
          "height": 34
        },
        "outputId": "f5d9eb2d-e01a-4e69-cacc-77d3a0e4dc87"
      },
      "source": [
        "floats.size"
      ],
      "execution_count": null,
      "outputs": [
        {
          "output_type": "execute_result",
          "data": {
            "text/plain": [
              "5"
            ]
          },
          "metadata": {
            "tags": []
          },
          "execution_count": 49
        }
      ]
    },
    {
      "cell_type": "code",
      "metadata": {
        "id": "E2vYSCgtfeEY",
        "colab_type": "code",
        "colab": {
          "base_uri": "https://localhost:8080/",
          "height": 34
        },
        "outputId": "7c660304-efef-4975-c944-31e6bc04d5c3"
      },
      "source": [
        "floats.itemsize"
      ],
      "execution_count": null,
      "outputs": [
        {
          "output_type": "execute_result",
          "data": {
            "text/plain": [
              "8"
            ]
          },
          "metadata": {
            "tags": []
          },
          "execution_count": 50
        }
      ]
    },
    {
      "cell_type": "markdown",
      "metadata": {
        "id": "uiBiE-u9kmmu",
        "colab_type": "text"
      },
      "source": [
        "#**Array Operators**"
      ]
    },
    {
      "cell_type": "code",
      "metadata": {
        "id": "Qrjb6tW6fhuE",
        "colab_type": "code",
        "colab": {}
      },
      "source": [
        "x = np.arange(4)"
      ],
      "execution_count": null,
      "outputs": []
    },
    {
      "cell_type": "code",
      "metadata": {
        "id": "jsmG-EBumRVM",
        "colab_type": "code",
        "colab": {
          "base_uri": "https://localhost:8080/",
          "height": 34
        },
        "outputId": "9bcd7434-3d06-4dc9-875d-84cde55fd30e"
      },
      "source": [
        "x+10 #scalar addition is element wise"
      ],
      "execution_count": null,
      "outputs": [
        {
          "output_type": "execute_result",
          "data": {
            "text/plain": [
              "array([10, 11, 12, 13])"
            ]
          },
          "metadata": {
            "tags": []
          },
          "execution_count": 54
        }
      ]
    },
    {
      "cell_type": "code",
      "metadata": {
        "id": "bZuSApBYl6ge",
        "colab_type": "code",
        "colab": {
          "base_uri": "https://localhost:8080/",
          "height": 34
        },
        "outputId": "5d2af200-2291-4e36-f8fe-70bd8039680a"
      },
      "source": [
        "x*2 #scalar multiplication is element wise"
      ],
      "execution_count": null,
      "outputs": [
        {
          "output_type": "execute_result",
          "data": {
            "text/plain": [
              "array([0, 2, 4, 6])"
            ]
          },
          "metadata": {
            "tags": []
          },
          "execution_count": 55
        }
      ]
    },
    {
      "cell_type": "code",
      "metadata": {
        "id": "UXP_ZwlsmeQU",
        "colab_type": "code",
        "colab": {
          "base_uri": "https://localhost:8080/",
          "height": 34
        },
        "outputId": "e55202ee-4cff-4bf5-d36a-7e17a26538c3"
      },
      "source": [
        "x+x #array addition is element wise"
      ],
      "execution_count": null,
      "outputs": [
        {
          "output_type": "execute_result",
          "data": {
            "text/plain": [
              "array([0, 2, 4, 6])"
            ]
          },
          "metadata": {
            "tags": []
          },
          "execution_count": 56
        }
      ]
    },
    {
      "cell_type": "code",
      "metadata": {
        "id": "p8v32i2HmpZz",
        "colab_type": "code",
        "colab": {
          "base_uri": "https://localhost:8080/",
          "height": 34
        },
        "outputId": "98b6a1c5-4e25-42a1-e237-009a4e0ef790"
      },
      "source": [
        "x*x #array multiplicatio is element wise"
      ],
      "execution_count": null,
      "outputs": [
        {
          "output_type": "execute_result",
          "data": {
            "text/plain": [
              "array([0, 1, 4, 9])"
            ]
          },
          "metadata": {
            "tags": []
          },
          "execution_count": 57
        }
      ]
    },
    {
      "cell_type": "code",
      "metadata": {
        "id": "ZZbggdi0mwab",
        "colab_type": "code",
        "colab": {
          "base_uri": "https://localhost:8080/",
          "height": 34
        },
        "outputId": "47a194ef-f6af-47f0-cca4-d97a725af181"
      },
      "source": [
        "x/10 #array division is element wise"
      ],
      "execution_count": null,
      "outputs": [
        {
          "output_type": "execute_result",
          "data": {
            "text/plain": [
              "array([0. , 0.1, 0.2, 0.3])"
            ]
          },
          "metadata": {
            "tags": []
          },
          "execution_count": 61
        }
      ]
    },
    {
      "cell_type": "code",
      "metadata": {
        "id": "KfCwjloOm8BX",
        "colab_type": "code",
        "colab": {
          "base_uri": "https://localhost:8080/",
          "height": 34
        },
        "outputId": "e222bf72-35f7-4318-9522-cc288f4ad180"
      },
      "source": [
        "x//10"
      ],
      "execution_count": null,
      "outputs": [
        {
          "output_type": "execute_result",
          "data": {
            "text/plain": [
              "array([0, 0, 0, 0])"
            ]
          },
          "metadata": {
            "tags": []
          },
          "execution_count": 62
        }
      ]
    },
    {
      "cell_type": "code",
      "metadata": {
        "id": "OTajV9P7nGv2",
        "colab_type": "code",
        "colab": {
          "base_uri": "https://localhost:8080/",
          "height": 34
        },
        "outputId": "18c38965-422f-481d-9883-0bb0f38ac125"
      },
      "source": [
        "x**3"
      ],
      "execution_count": null,
      "outputs": [
        {
          "output_type": "execute_result",
          "data": {
            "text/plain": [
              "array([ 0,  1,  8, 27])"
            ]
          },
          "metadata": {
            "tags": []
          },
          "execution_count": 63
        }
      ]
    },
    {
      "cell_type": "code",
      "metadata": {
        "id": "ifmRyp3YnKaC",
        "colab_type": "code",
        "colab": {}
      },
      "source": [
        "x = np.array([[11,9,11],[2,15,18]])"
      ],
      "execution_count": null,
      "outputs": []
    },
    {
      "cell_type": "code",
      "metadata": {
        "id": "LvVtmSoWoLJB",
        "colab_type": "code",
        "colab": {
          "base_uri": "https://localhost:8080/",
          "height": 52
        },
        "outputId": "e03634b8-2fab-43a5-c3b6-0d5e48f44975"
      },
      "source": [
        "x>10"
      ],
      "execution_count": null,
      "outputs": [
        {
          "output_type": "execute_result",
          "data": {
            "text/plain": [
              "array([[ True, False,  True],\n",
              "       [False,  True,  True]])"
            ]
          },
          "metadata": {
            "tags": []
          },
          "execution_count": 71
        }
      ]
    },
    {
      "cell_type": "code",
      "metadata": {
        "id": "ozzdHEb8oP55",
        "colab_type": "code",
        "colab": {
          "base_uri": "https://localhost:8080/",
          "height": 52
        },
        "outputId": "6715c1ac-056a-4b8d-ffba-148d851e51ea"
      },
      "source": [
        "x>=10"
      ],
      "execution_count": null,
      "outputs": [
        {
          "output_type": "execute_result",
          "data": {
            "text/plain": [
              "array([[ True, False,  True],\n",
              "       [False,  True,  True]])"
            ]
          },
          "metadata": {
            "tags": []
          },
          "execution_count": 73
        }
      ]
    },
    {
      "cell_type": "code",
      "metadata": {
        "id": "woHP_ZYvoo5K",
        "colab_type": "code",
        "colab": {
          "base_uri": "https://localhost:8080/",
          "height": 52
        },
        "outputId": "07ba8a0c-a113-4a9c-f3e0-6df4bcf49d5c"
      },
      "source": [
        "x<10"
      ],
      "execution_count": null,
      "outputs": [
        {
          "output_type": "execute_result",
          "data": {
            "text/plain": [
              "array([[False,  True, False],\n",
              "       [ True, False, False]])"
            ]
          },
          "metadata": {
            "tags": []
          },
          "execution_count": 74
        }
      ]
    },
    {
      "cell_type": "code",
      "metadata": {
        "id": "7JnPoJzJosFY",
        "colab_type": "code",
        "colab": {
          "base_uri": "https://localhost:8080/",
          "height": 52
        },
        "outputId": "7b0b2c64-5c97-41b6-95c1-edf1ad532f45"
      },
      "source": [
        "x<=10"
      ],
      "execution_count": null,
      "outputs": [
        {
          "output_type": "execute_result",
          "data": {
            "text/plain": [
              "array([[False,  True, False],\n",
              "       [ True, False, False]])"
            ]
          },
          "metadata": {
            "tags": []
          },
          "execution_count": 75
        }
      ]
    },
    {
      "cell_type": "code",
      "metadata": {
        "id": "evLl_-Bcotii",
        "colab_type": "code",
        "colab": {
          "base_uri": "https://localhost:8080/",
          "height": 52
        },
        "outputId": "6571a137-9f49-4b3f-a688-3f24f8a32ae9"
      },
      "source": [
        "x==9"
      ],
      "execution_count": null,
      "outputs": [
        {
          "output_type": "execute_result",
          "data": {
            "text/plain": [
              "array([[False,  True, False],\n",
              "       [False, False, False]])"
            ]
          },
          "metadata": {
            "tags": []
          },
          "execution_count": 77
        }
      ]
    },
    {
      "cell_type": "code",
      "metadata": {
        "id": "3bpWl41woyn5",
        "colab_type": "code",
        "colab": {
          "base_uri": "https://localhost:8080/",
          "height": 52
        },
        "outputId": "d42fd841-4fb9-4d9a-d268-ef7f8022a562"
      },
      "source": [
        "x!=11"
      ],
      "execution_count": null,
      "outputs": [
        {
          "output_type": "execute_result",
          "data": {
            "text/plain": [
              "array([[False,  True, False],\n",
              "       [ True,  True,  True]])"
            ]
          },
          "metadata": {
            "tags": []
          },
          "execution_count": 78
        }
      ]
    },
    {
      "cell_type": "markdown",
      "metadata": {
        "id": "jlxE-GX7t-3H",
        "colab_type": "text"
      },
      "source": [
        "#**NumPy Methods**"
      ]
    },
    {
      "cell_type": "code",
      "metadata": {
        "id": "YQmCf0B4pfSF",
        "colab_type": "code",
        "colab": {}
      },
      "source": [
        "grades = np.array([[87, 96, 70], [100, 87, 90],\n",
        "                   [94, 77, 90], [100, 81, 82]])"
      ],
      "execution_count": null,
      "outputs": []
    },
    {
      "cell_type": "code",
      "metadata": {
        "id": "I4ef235at4sp",
        "colab_type": "code",
        "colab": {
          "base_uri": "https://localhost:8080/",
          "height": 87
        },
        "outputId": "b553bcb1-cfb8-4674-9ef6-89f03624b0d8"
      },
      "source": [
        "grades"
      ],
      "execution_count": null,
      "outputs": [
        {
          "output_type": "execute_result",
          "data": {
            "text/plain": [
              "array([[ 87,  96,  70],\n",
              "       [100,  87,  90],\n",
              "       [ 94,  77,  90],\n",
              "       [100,  81,  82]])"
            ]
          },
          "metadata": {
            "tags": []
          },
          "execution_count": 83
        }
      ]
    },
    {
      "cell_type": "code",
      "metadata": {
        "id": "MaXqOvYQuOGa",
        "colab_type": "code",
        "colab": {
          "base_uri": "https://localhost:8080/",
          "height": 35
        },
        "outputId": "2a7b339e-c315-434d-ce4f-b3e19a4df1f0"
      },
      "source": [
        "grades.max()"
      ],
      "execution_count": null,
      "outputs": [
        {
          "output_type": "execute_result",
          "data": {
            "text/plain": [
              "100"
            ]
          },
          "metadata": {
            "tags": []
          },
          "execution_count": 84
        }
      ]
    },
    {
      "cell_type": "code",
      "metadata": {
        "id": "5IXMlWfYuZnL",
        "colab_type": "code",
        "colab": {
          "base_uri": "https://localhost:8080/",
          "height": 35
        },
        "outputId": "2cb49c40-885b-4d45-d94c-796a3c41e83b"
      },
      "source": [
        "grades.min()"
      ],
      "execution_count": null,
      "outputs": [
        {
          "output_type": "execute_result",
          "data": {
            "text/plain": [
              "70"
            ]
          },
          "metadata": {
            "tags": []
          },
          "execution_count": 85
        }
      ]
    },
    {
      "cell_type": "code",
      "metadata": {
        "id": "vCDmKUM_uc5Q",
        "colab_type": "code",
        "colab": {
          "base_uri": "https://localhost:8080/",
          "height": 35
        },
        "outputId": "3342c20a-e58b-4c77-c2c4-d9a48c00808f"
      },
      "source": [
        "grades.sum()"
      ],
      "execution_count": null,
      "outputs": [
        {
          "output_type": "execute_result",
          "data": {
            "text/plain": [
              "1054"
            ]
          },
          "metadata": {
            "tags": []
          },
          "execution_count": 87
        }
      ]
    },
    {
      "cell_type": "code",
      "metadata": {
        "id": "-E919MGMuit-",
        "colab_type": "code",
        "colab": {
          "base_uri": "https://localhost:8080/",
          "height": 35
        },
        "outputId": "51990b1d-d858-4cd2-ed69-48b29295366a"
      },
      "source": [
        "grades.std()"
      ],
      "execution_count": null,
      "outputs": [
        {
          "output_type": "execute_result",
          "data": {
            "text/plain": [
              "8.792357792739987"
            ]
          },
          "metadata": {
            "tags": []
          },
          "execution_count": 88
        }
      ]
    },
    {
      "cell_type": "code",
      "metadata": {
        "id": "8IivlXTausk8",
        "colab_type": "code",
        "colab": {
          "base_uri": "https://localhost:8080/",
          "height": 35
        },
        "outputId": "5737a229-a9d8-488b-e193-618f06bb2bb6"
      },
      "source": [
        "grades.mean()"
      ],
      "execution_count": null,
      "outputs": [
        {
          "output_type": "execute_result",
          "data": {
            "text/plain": [
              "87.83333333333333"
            ]
          },
          "metadata": {
            "tags": []
          },
          "execution_count": 89
        }
      ]
    },
    {
      "cell_type": "code",
      "metadata": {
        "id": "U28MgPWnu2Gn",
        "colab_type": "code",
        "colab": {
          "base_uri": "https://localhost:8080/",
          "height": 35
        },
        "outputId": "ee66f495-0594-439c-b508-b33fbe3f6363"
      },
      "source": [
        "grades.var()"
      ],
      "execution_count": null,
      "outputs": [
        {
          "output_type": "execute_result",
          "data": {
            "text/plain": [
              "77.30555555555556"
            ]
          },
          "metadata": {
            "tags": []
          },
          "execution_count": 90
        }
      ]
    },
    {
      "cell_type": "code",
      "metadata": {
        "id": "Or_i3Bsku_g_",
        "colab_type": "code",
        "colab": {
          "base_uri": "https://localhost:8080/",
          "height": 35
        },
        "outputId": "481c034d-1fb0-4af3-8661-cb985ccfed46"
      },
      "source": [
        "grades.mean(axis=0)"
      ],
      "execution_count": null,
      "outputs": [
        {
          "output_type": "execute_result",
          "data": {
            "text/plain": [
              "array([95.25, 85.25, 83.  ])"
            ]
          },
          "metadata": {
            "tags": []
          },
          "execution_count": 91
        }
      ]
    },
    {
      "cell_type": "code",
      "metadata": {
        "id": "G48wBYeHvIdm",
        "colab_type": "code",
        "colab": {
          "base_uri": "https://localhost:8080/",
          "height": 35
        },
        "outputId": "709f0f8c-b6af-424e-e769-f082591e8f6d"
      },
      "source": [
        "grades.mean(axis=1)"
      ],
      "execution_count": null,
      "outputs": [
        {
          "output_type": "execute_result",
          "data": {
            "text/plain": [
              "array([84.33333333, 92.33333333, 87.        , 87.66666667])"
            ]
          },
          "metadata": {
            "tags": []
          },
          "execution_count": 92
        }
      ]
    },
    {
      "cell_type": "markdown",
      "metadata": {
        "id": "TG7K-lxDwaW0",
        "colab_type": "text"
      },
      "source": [
        "#**Shallow Copies**"
      ]
    },
    {
      "cell_type": "code",
      "metadata": {
        "id": "P35yJimOvNWA",
        "colab_type": "code",
        "colab": {}
      },
      "source": [
        "numbers = np.arange(1, 6)"
      ],
      "execution_count": null,
      "outputs": []
    },
    {
      "cell_type": "code",
      "metadata": {
        "id": "4PtlTpKb3g9U",
        "colab_type": "code",
        "colab": {
          "base_uri": "https://localhost:8080/",
          "height": 35
        },
        "outputId": "ec4db7ea-71fe-4b95-fbee-8f2238c4f218"
      },
      "source": [
        "numbers"
      ],
      "execution_count": null,
      "outputs": [
        {
          "output_type": "execute_result",
          "data": {
            "text/plain": [
              "array([1, 2, 3, 4, 5])"
            ]
          },
          "metadata": {
            "tags": []
          },
          "execution_count": 96
        }
      ]
    },
    {
      "cell_type": "code",
      "metadata": {
        "id": "sSTFAWYLwoxZ",
        "colab_type": "code",
        "colab": {}
      },
      "source": [
        "numbers2 = numbers.view() #Make a view, change the original array, and display both arrays."
      ],
      "execution_count": null,
      "outputs": []
    },
    {
      "cell_type": "code",
      "metadata": {
        "id": "z7kPbUGwwxTT",
        "colab_type": "code",
        "colab": {
          "base_uri": "https://localhost:8080/",
          "height": 35
        },
        "outputId": "ecf90a77-2bf2-4df9-8433-670a73c70960"
      },
      "source": [
        "numbers2"
      ],
      "execution_count": null,
      "outputs": [
        {
          "output_type": "execute_result",
          "data": {
            "text/plain": [
              "array([1, 2, 3, 4, 5])"
            ]
          },
          "metadata": {
            "tags": []
          },
          "execution_count": 97
        }
      ]
    },
    {
      "cell_type": "code",
      "metadata": {
        "id": "p4Kfn8583j4a",
        "colab_type": "code",
        "colab": {
          "base_uri": "https://localhost:8080/",
          "height": 35
        },
        "outputId": "7510a1ce-b2a0-4076-d6a6-9d3d8950bef2"
      },
      "source": [
        "id(numbers)# the built-in id function to see that numbers and numbers2 are different objects"
      ],
      "execution_count": null,
      "outputs": [
        {
          "output_type": "execute_result",
          "data": {
            "text/plain": [
              "139858392684304"
            ]
          },
          "metadata": {
            "tags": []
          },
          "execution_count": 98
        }
      ]
    },
    {
      "cell_type": "code",
      "metadata": {
        "id": "FzVsUP_f3zjO",
        "colab_type": "code",
        "colab": {
          "base_uri": "https://localhost:8080/",
          "height": 35
        },
        "outputId": "a332b554-42f0-455f-ba18-4e12afde7925"
      },
      "source": [
        "id(numbers2)"
      ],
      "execution_count": null,
      "outputs": [
        {
          "output_type": "execute_result",
          "data": {
            "text/plain": [
              "139858392686064"
            ]
          },
          "metadata": {
            "tags": []
          },
          "execution_count": 99
        }
      ]
    },
    {
      "cell_type": "code",
      "metadata": {
        "id": "Ce4pZfob32VW",
        "colab_type": "code",
        "colab": {}
      },
      "source": [
        "numbers[1] *= 10"
      ],
      "execution_count": null,
      "outputs": []
    },
    {
      "cell_type": "code",
      "metadata": {
        "id": "y_cI2B_u-2Ig",
        "colab_type": "code",
        "colab": {
          "base_uri": "https://localhost:8080/",
          "height": 35
        },
        "outputId": "217b1d8d-678d-4670-cbec-de7502082f21"
      },
      "source": [
        "numbers2"
      ],
      "execution_count": null,
      "outputs": [
        {
          "output_type": "execute_result",
          "data": {
            "text/plain": [
              "array([ 1, 20,  3,  4,  5])"
            ]
          },
          "metadata": {
            "tags": []
          },
          "execution_count": 101
        }
      ]
    },
    {
      "cell_type": "code",
      "metadata": {
        "id": "RBfNEVwq-2pO",
        "colab_type": "code",
        "colab": {
          "base_uri": "https://localhost:8080/",
          "height": 35
        },
        "outputId": "75cf2234-4ed4-447d-9524-77c36885eddf"
      },
      "source": [
        "numbers"
      ],
      "execution_count": null,
      "outputs": [
        {
          "output_type": "execute_result",
          "data": {
            "text/plain": [
              "array([ 1, 20,  3,  4,  5])"
            ]
          },
          "metadata": {
            "tags": []
          },
          "execution_count": 102
        }
      ]
    },
    {
      "cell_type": "markdown",
      "metadata": {
        "id": "UNJ_F89qFQBP",
        "colab_type": "text"
      },
      "source": [
        "#**Deep Copies**"
      ]
    },
    {
      "cell_type": "code",
      "metadata": {
        "id": "GKSD9bfr-8ue",
        "colab_type": "code",
        "colab": {}
      },
      "source": [
        "numbers = np.arange(1, 6)"
      ],
      "execution_count": null,
      "outputs": []
    },
    {
      "cell_type": "code",
      "metadata": {
        "id": "xWkPdjdDFcz4",
        "colab_type": "code",
        "colab": {
          "base_uri": "https://localhost:8080/",
          "height": 35
        },
        "outputId": "28339533-5dd5-4d53-ff38-34f36f4397ae"
      },
      "source": [
        "numbers"
      ],
      "execution_count": null,
      "outputs": [
        {
          "output_type": "execute_result",
          "data": {
            "text/plain": [
              "array([1, 2, 3, 4, 5])"
            ]
          },
          "metadata": {
            "tags": []
          },
          "execution_count": 104
        }
      ]
    },
    {
      "cell_type": "code",
      "metadata": {
        "id": "smDdvDOSFgOT",
        "colab_type": "code",
        "colab": {}
      },
      "source": [
        "numbers2 = numbers.copy()#Make a copy, change the original array, and display both arrays"
      ],
      "execution_count": null,
      "outputs": []
    },
    {
      "cell_type": "code",
      "metadata": {
        "id": "Kwshzgr6FjoE",
        "colab_type": "code",
        "colab": {
          "base_uri": "https://localhost:8080/",
          "height": 35
        },
        "outputId": "deccc816-8b2f-4375-e8a6-2a46e87ca6a4"
      },
      "source": [
        "numbers2"
      ],
      "execution_count": null,
      "outputs": [
        {
          "output_type": "execute_result",
          "data": {
            "text/plain": [
              "array([1, 2, 3, 4, 5])"
            ]
          },
          "metadata": {
            "tags": []
          },
          "execution_count": 106
        }
      ]
    },
    {
      "cell_type": "code",
      "metadata": {
        "id": "fpIEuEgoFn8R",
        "colab_type": "code",
        "colab": {}
      },
      "source": [
        "numbers[1] *= 10"
      ],
      "execution_count": null,
      "outputs": []
    },
    {
      "cell_type": "code",
      "metadata": {
        "id": "CJfJ97jQFrnr",
        "colab_type": "code",
        "colab": {
          "base_uri": "https://localhost:8080/",
          "height": 35
        },
        "outputId": "1b19c3f5-eae6-46e7-d77e-d3e4aad2f6fe"
      },
      "source": [
        "numbers"
      ],
      "execution_count": null,
      "outputs": [
        {
          "output_type": "execute_result",
          "data": {
            "text/plain": [
              "array([ 1, 20,  3,  4,  5])"
            ]
          },
          "metadata": {
            "tags": []
          },
          "execution_count": 108
        }
      ]
    },
    {
      "cell_type": "code",
      "metadata": {
        "id": "T8P4R22ZFupY",
        "colab_type": "code",
        "colab": {
          "base_uri": "https://localhost:8080/",
          "height": 35
        },
        "outputId": "045a91b3-64e9-4267-834f-2c99645be131"
      },
      "source": [
        "numbers2"
      ],
      "execution_count": null,
      "outputs": [
        {
          "output_type": "execute_result",
          "data": {
            "text/plain": [
              "array([1, 2, 3, 4, 5])"
            ]
          },
          "metadata": {
            "tags": []
          },
          "execution_count": 109
        }
      ]
    },
    {
      "cell_type": "code",
      "metadata": {
        "id": "Sy61ybtPFx0L",
        "colab_type": "code",
        "colab": {}
      },
      "source": [
        ""
      ],
      "execution_count": null,
      "outputs": []
    }
  ]
}